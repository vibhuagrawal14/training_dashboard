{
 "cells": [
  {
   "cell_type": "code",
   "execution_count": 1,
   "metadata": {},
   "outputs": [],
   "source": [
    "import tensorflow as tf\n",
    "from tensorflow.keras import layers\n",
    "import numpy as np\n",
    "from training_dashboard import TrainingDashboard"
   ]
  },
  {
   "cell_type": "code",
   "execution_count": 2,
   "metadata": {},
   "outputs": [],
   "source": [
    "def get_model():\n",
    "    model = tf.keras.Sequential(\n",
    "        [\n",
    "            tf.keras.Input(shape=(28, 28, 1)),\n",
    "            layers.Conv2D(32, kernel_size=(3, 3), activation=\"relu\"),\n",
    "            layers.MaxPooling2D(pool_size=(2, 2)),\n",
    "            layers.Flatten(),\n",
    "            layers.Dropout(0.5),\n",
    "            layers.Dense(10, activation=\"softmax\"),\n",
    "        ]\n",
    "    )\n",
    "    return model"
   ]
  },
  {
   "cell_type": "code",
   "execution_count": 3,
   "metadata": {},
   "outputs": [],
   "source": [
    "num_classes = 10\n",
    "input_shape = (28, 28, 1)\n",
    "\n",
    "(x_train, y_train), (x_test, y_test) = tf.keras.datasets.mnist.load_data()\n",
    "\n",
    "x_train = x_train.astype(\"float32\") / 255\n",
    "x_test = x_test.astype(\"float32\") / 255\n",
    "\n",
    "x_train = np.expand_dims(x_train, -1)\n",
    "x_test = np.expand_dims(x_test, -1)\n",
    "\n",
    "y_train = tf.keras.utils.to_categorical(y_train, num_classes)\n",
    "y_test = tf.keras.utils.to_categorical(y_test, num_classes)"
   ]
  },
  {
   "cell_type": "code",
   "execution_count": 4,
   "metadata": {
    "scrolled": false
   },
   "outputs": [
    {
     "data": {
      "application/vnd.jupyter.widget-view+json": {
       "model_id": "e3add54f64194db8b63b68a85725aefe",
       "version_major": 2,
       "version_minor": 0
      },
      "text/plain": [
       "AppLayout(children=(Figure(axes=[Axis(label='batch', scale=OrdinalScale()), Axis(grid_lines='dashed', label='t…"
      ]
     },
     "metadata": {},
     "output_type": "display_data"
    },
    {
     "data": {
      "application/vnd.jupyter.widget-view+json": {
       "model_id": "45c1d49ce5124aa696c3fdab81d2325f",
       "version_major": 2,
       "version_minor": 0
      },
      "text/plain": [
       "AppLayout(children=(Figure(axes=[Axis(label='epoch', scale=OrdinalScale()), Axis(label='accuracy', orientation…"
      ]
     },
     "metadata": {},
     "output_type": "display_data"
    },
    {
     "data": {
      "application/vnd.jupyter.widget-view+json": {
       "model_id": "a385575505a04e3b986a2671ea4572c8",
       "version_major": 2,
       "version_minor": 0
      },
      "text/plain": [
       "HBox(children=(Output(),), layout=Layout(align_items='center', display='flex', flex_flow='column'))"
      ]
     },
     "metadata": {},
     "output_type": "display_data"
    },
    {
     "name": "stdout",
     "output_type": "stream",
     "text": [
      "Epoch 1/25\n",
      "94/94 [==============================] - 14s 149ms/step - loss: 0.7713 - accuracy: 0.7985 - auc: 0.9724 - val_loss: 0.2958 - val_accuracy: 0.9175 - val_auc: 0.9934\n",
      "Epoch 2/25\n",
      "94/94 [==============================] - 11s 122ms/step - loss: 0.2962 - accuracy: 0.9137 - auc: 0.9933 - val_loss: 0.2165 - val_accuracy: 0.9397 - val_auc: 0.9955\n",
      "Epoch 3/25\n",
      "94/94 [==============================] - 11s 122ms/step - loss: 0.2297 - accuracy: 0.9318 - auc: 0.9955 - val_loss: 0.1717 - val_accuracy: 0.9539 - val_auc: 0.9969\n",
      "Epoch 4/25\n",
      "94/94 [==============================] - 11s 115ms/step - loss: 0.1857 - accuracy: 0.9463 - auc: 0.9969 - val_loss: 0.1424 - val_accuracy: 0.9621 - val_auc: 0.9976\n",
      "Epoch 5/25\n",
      "94/94 [==============================] - 21s 228ms/step - loss: 0.1632 - accuracy: 0.9521 - auc: 0.9974 - val_loss: 0.1265 - val_accuracy: 0.9655 - val_auc: 0.9981\n",
      "Epoch 6/25\n",
      "94/94 [==============================] - 11s 119ms/step - loss: 0.1448 - accuracy: 0.9566 - auc: 0.9979 - val_loss: 0.1126 - val_accuracy: 0.9699 - val_auc: 0.9982\n",
      "Epoch 7/25\n",
      "94/94 [==============================] - 21s 222ms/step - loss: 0.1328 - accuracy: 0.9602 - auc: 0.9982 - val_loss: 0.1057 - val_accuracy: 0.9711 - val_auc: 0.9984\n",
      "Epoch 8/25\n",
      "94/94 [==============================] - 15s 159ms/step - loss: 0.1252 - accuracy: 0.9629 - auc: 0.9982 - val_loss: 0.0968 - val_accuracy: 0.9747 - val_auc: 0.9987\n",
      "Epoch 9/25\n",
      "94/94 [==============================] - 19s 200ms/step - loss: 0.1166 - accuracy: 0.9656 - auc: 0.9983 - val_loss: 0.0945 - val_accuracy: 0.9741 - val_auc: 0.9986\n",
      "Epoch 10/25\n",
      "94/94 [==============================] - 21s 228ms/step - loss: 0.1120 - accuracy: 0.9666 - auc: 0.9985 - val_loss: 0.0885 - val_accuracy: 0.9764 - val_auc: 0.9987\n",
      "Epoch 11/25\n",
      "94/94 [==============================] - 16s 170ms/step - loss: 0.1065 - accuracy: 0.9675 - auc: 0.9985 - val_loss: 0.0851 - val_accuracy: 0.9778 - val_auc: 0.9989\n",
      "Epoch 12/25\n",
      "94/94 [==============================] - 13s 138ms/step - loss: 0.1016 - accuracy: 0.9690 - auc: 0.9988 - val_loss: 0.0825 - val_accuracy: 0.9774 - val_auc: 0.9989\n",
      "Epoch 13/25\n",
      "94/94 [==============================] - 18s 190ms/step - loss: 0.0972 - accuracy: 0.9706 - auc: 0.9987 - val_loss: 0.0792 - val_accuracy: 0.9783 - val_auc: 0.9990\n",
      "Epoch 14/25\n",
      "94/94 [==============================] - 14s 151ms/step - loss: 0.0951 - accuracy: 0.9716 - auc: 0.9987 - val_loss: 0.0771 - val_accuracy: 0.9791 - val_auc: 0.9990\n",
      "Epoch 15/25\n",
      "94/94 [==============================] - 14s 144ms/step - loss: 0.0926 - accuracy: 0.9718 - auc: 0.9988 - val_loss: 0.0754 - val_accuracy: 0.9795 - val_auc: 0.9990\n",
      "Epoch 16/25\n",
      "94/94 [==============================] - 18s 189ms/step - loss: 0.0905 - accuracy: 0.9715 - auc: 0.9990 - val_loss: 0.0734 - val_accuracy: 0.9797 - val_auc: 0.9990\n",
      "Epoch 17/25\n",
      "94/94 [==============================] - 20s 213ms/step - loss: 0.0850 - accuracy: 0.9739 - auc: 0.9989 - val_loss: 0.0731 - val_accuracy: 0.9797 - val_auc: 0.9991\n",
      "Epoch 18/25\n",
      "94/94 [==============================] - 16s 166ms/step - loss: 0.0840 - accuracy: 0.9743 - auc: 0.9990 - val_loss: 0.0719 - val_accuracy: 0.9799 - val_auc: 0.9991\n",
      "Epoch 19/25\n",
      "94/94 [==============================] - 17s 176ms/step - loss: 0.0824 - accuracy: 0.9743 - auc: 0.9990 - val_loss: 0.0711 - val_accuracy: 0.9804 - val_auc: 0.9990\n",
      "Epoch 20/25\n",
      "94/94 [==============================] - 13s 135ms/step - loss: 0.0798 - accuracy: 0.9757 - auc: 0.9991 - val_loss: 0.0690 - val_accuracy: 0.9808 - val_auc: 0.9991\n",
      "Epoch 21/25\n",
      "94/94 [==============================] - 18s 191ms/step - loss: 0.0791 - accuracy: 0.9761 - auc: 0.9990 - val_loss: 0.0681 - val_accuracy: 0.9810 - val_auc: 0.9991\n",
      "Epoch 22/25\n",
      "94/94 [==============================] - 14s 154ms/step - loss: 0.0770 - accuracy: 0.9758 - auc: 0.9990 - val_loss: 0.0683 - val_accuracy: 0.9806 - val_auc: 0.9991\n",
      "Epoch 23/25\n",
      "94/94 [==============================] - 14s 149ms/step - loss: 0.0757 - accuracy: 0.9769 - auc: 0.9993 - val_loss: 0.0664 - val_accuracy: 0.9818 - val_auc: 0.9990\n",
      "Epoch 24/25\n",
      "94/94 [==============================] - 14s 154ms/step - loss: 0.0726 - accuracy: 0.9777 - auc: 0.9991 - val_loss: 0.0648 - val_accuracy: 0.9812 - val_auc: 0.9992\n",
      "Epoch 25/25\n",
      "94/94 [==============================] - 18s 188ms/step - loss: 0.0719 - accuracy: 0.9779 - auc: 0.9992 - val_loss: 0.0642 - val_accuracy: 0.9820 - val_auc: 0.9991\n"
     ]
    },
    {
     "data": {
      "text/plain": [
       "<tensorflow.python.keras.callbacks.History at 0x655234d50>"
      ]
     },
     "execution_count": 4,
     "metadata": {},
     "output_type": "execute_result"
    }
   ],
   "source": [
    "auc = tf.keras.metrics.AUC(name='auc')\n",
    "\n",
    "model = get_model()\n",
    "model.compile(loss=\"categorical_crossentropy\", optimizer=\"adam\", metrics=[\"accuracy\", auc])\n",
    "\n",
    "callback = TrainingDashboard(validation=True, # because we are using validation data and want to track its metrics\n",
    "                             min_loss=0, # we want the loss axes to be fixed on the lower end\n",
    "                             metrics=[\"accuracy\", \"auc\"], # metrics that we want plotted\n",
    "                             batch_step=10, # plot every 10th batch\n",
    "                             min_metric_dict={\"accuracy\": 0, \"auc\": 0}, # minimum possible value for metrics used (optional)\n",
    "                             max_metric_dict={\"accuracy\": 1, \"auc\": 1}) # maximum possible value for metrics used (optional)\n",
    "model.fit(x_train,\n",
    "          y_train,\n",
    "          batch_size=512,\n",
    "          epochs=25,\n",
    "          verbose=1,\n",
    "          validation_split=0.2,\n",
    "          callbacks=[callback])"
   ]
  }
 ],
 "metadata": {
  "kernelspec": {
   "display_name": "Python 3",
   "language": "python",
   "name": "python3"
  },
  "language_info": {
   "codemirror_mode": {
    "name": "ipython",
    "version": 3
   },
   "file_extension": ".py",
   "mimetype": "text/x-python",
   "name": "python",
   "nbconvert_exporter": "python",
   "pygments_lexer": "ipython3",
   "version": "3.7.4"
  },
  "widgets": {
   "application/vnd.jupyter.widget-state+json": {
    "state": {
     "0011fcb045ff4b0986b3345cabdca0bb": {
      "model_module": "bqplot",
      "model_module_version": "^0.5.27",
      "model_name": "AxisModel",
      "state": {
       "_model_module_version": "^0.5.27",
       "_view_module_version": "^0.5.27",
       "grid_lines": "dashed",
       "label": "training_loss",
       "orientation": "vertical",
       "scale": "IPY_MODEL_91bd6dc3851943d6adb80ccb6aef0992",
       "side": "left",
       "tick_values": null
      }
     },
     "00a6428650544544a571ec6bf812f3a8": {
      "model_module": "bqplot",
      "model_module_version": "^0.5.27",
      "model_name": "LinearScaleModel",
      "state": {
       "_model_module_version": "^0.5.27",
       "_view_module_version": "^0.5.27",
       "min": 0,
       "stabilized": false
      }
     },
     "00e61a20f4b74d93b2da73477e581bbd": {
      "model_module": "bqplot",
      "model_module_version": "^0.5.27",
      "model_name": "AxisModel",
      "state": {
       "_model_module_version": "^0.5.27",
       "_view_module_version": "^0.5.27",
       "grid_lines": "dashed",
       "label": "training_loss",
       "orientation": "vertical",
       "scale": "IPY_MODEL_00a6428650544544a571ec6bf812f3a8",
       "side": "left",
       "tick_values": null
      }
     },
     "0137d3787f9242f1b45247ff25ee68bf": {
      "model_module": "bqplot",
      "model_module_version": "^0.5.27",
      "model_name": "AxisModel",
      "state": {
       "_model_module_version": "^0.5.27",
       "_view_module_version": "^0.5.27",
       "label": "batch",
       "scale": "IPY_MODEL_f6c401e17fd14417a6a241698f819d75",
       "side": "bottom",
       "tick_values": null
      }
     },
     "024ca61b1b8c4496865e5b4a409f5611": {
      "model_module": "bqplot",
      "model_module_version": "^0.5.27",
      "model_name": "FigureModel",
      "state": {
       "_model_module_version": "^0.5.27",
       "_view_module_version": "^0.5.27",
       "axes": [
        "IPY_MODEL_54654bd010824a65b3db8907832e0ea2",
        "IPY_MODEL_70b2cfd0740648eba3591752ebf879e5"
       ],
       "layout": "IPY_MODEL_b48f2f4112314ad5879605328197a9e1",
       "legend_location": "bottom",
       "marks": [
        "IPY_MODEL_44e44bcf0f7e4d37bd13f73f7bc54523",
        "IPY_MODEL_55783837d2584ed391bd517a564f721c"
       ],
       "scale_x": "IPY_MODEL_755053fb1b3c46fbb86d5cbb32e7c305",
       "scale_y": "IPY_MODEL_18582656e3e946bba5b1bfec5fcddf3d",
       "title": "auc"
      }
     },
     "0283adc6b43846b2bbb82ab51cb64361": {
      "model_module": "bqplot",
      "model_module_version": "^0.5.27",
      "model_name": "FigureModel",
      "state": {
       "_model_module_version": "^0.5.27",
       "_view_module_version": "^0.5.27",
       "axes": [
        "IPY_MODEL_0137d3787f9242f1b45247ff25ee68bf",
        "IPY_MODEL_a258d793ae5f41c1af79c9fe6ecd53d3",
        "IPY_MODEL_75be307970e4403396553b9e06389b4b"
       ],
       "layout": "IPY_MODEL_5b1e2744f21943d092ed1a47773b71c6",
       "legend_location": "bottom",
       "marks": [
        "IPY_MODEL_8c097bb23f6e49879e785069c905e0f9",
        "IPY_MODEL_0e9d7ce5977941a2981a8ec23b40e020"
       ],
       "scale_x": "IPY_MODEL_84d353e24bc84e1a924501cc20a2f44a",
       "scale_y": "IPY_MODEL_8249318ed62545acaf2c57ccaa2da4c3",
       "title": "Epoch 25"
      }
     },
     "0cb61577a63545a0a5bd7ad42709c0cb": {
      "buffers": [
       {
        "data": "AAAAAAEAAAACAAAAAwAAAAQAAAAFAAAABgAAAAcAAAAIAAAACQAAAAoAAAALAAAADAAAAA0AAAAOAAAADwAAABAAAAARAAAAEgAAABMAAAAUAAAAFQAAABYAAAAXAAAAGAAAAA==",
        "encoding": "base64",
        "path": [
         "x",
         "value"
        ]
       },
       {
        "data": "AAAAICyg5z8AAABAqKjTPwAAAKD1AM8/AAAAgIigyT8AAADgMRjGPwAAAIDFY8M/AAAAoAevwT8AAABgu5TAPwAAACBnyL4/AAAAIBs2vT8AAACgvVS7PwAAACDOV7o/AAAAgDBhuT8AAADAPJK4PwAAAOAL2Lc/AAAA4GSjtj8AAAAgPx22PwAAAOAVgrU/AAAAwO0BtT8AAACgG3q0PwAAAEDat7M/AAAAYNiDsz8AAABAvjSzPwAAAGAXirI/AAAAAMZCsj8=",
        "encoding": "base64",
        "path": [
         "y",
         "value"
        ]
       }
      ],
      "model_module": "bqplot",
      "model_module_version": "^0.5.27",
      "model_name": "LinesModel",
      "state": {
       "_model_module_version": "^0.5.27",
       "_view_module_version": "^0.5.27",
       "colors": [
        "red"
       ],
       "display_legend": true,
       "fill_colors": [],
       "labels": [
        "train"
       ],
       "scales": {
        "x": "IPY_MODEL_8f201f19f29445bdb2f990868838ccc2",
        "y": "IPY_MODEL_7e11e95827e14a61be9304713c0208d2"
       },
       "x": {
        "dtype": "int32",
        "shape": [
         25
        ],
        "type": null,
        "value": {}
       },
       "y": {
        "dtype": "float64",
        "shape": [
         25
        ],
        "type": null,
        "value": {}
       }
      }
     },
     "0d259e4a4dcc40c1955ea47b23105fc0": {
      "model_module": "bqplot",
      "model_module_version": "^0.5.27",
      "model_name": "LinearScaleModel",
      "state": {
       "_model_module_version": "^0.5.27",
       "_view_module_version": "^0.5.27",
       "allow_padding": false,
       "max": 1,
       "min": 0,
       "stabilized": false
      }
     },
     "0e9d7ce5977941a2981a8ec23b40e020": {
      "buffers": [
       {
        "data": "AAAAAAoAAAAUAAAAHgAAACgAAAAyAAAAPAAAAEYAAABQAAAAWgAAAA==",
        "encoding": "base64",
        "path": [
         "x",
         "value"
        ]
       },
       {
        "data": "AAAAAABQ7z8AAAAgumjvPwAAAAA9X+8/AAAAoLVW7z8AAADAx1DvPwAAAICMTO8/AAAAYB1N7z8AAAAAEk3vPwAAAGAGTu8/AAAAwG1L7z8=",
        "encoding": "base64",
        "path": [
         "y",
         "value"
        ]
       }
      ],
      "model_module": "bqplot",
      "model_module_version": "^0.5.27",
      "model_name": "LinesModel",
      "state": {
       "_model_module_version": "^0.5.27",
       "_view_module_version": "^0.5.27",
       "colors": [
        "blue"
       ],
       "display_legend": true,
       "fill_colors": [],
       "labels": [
        "accuracy"
       ],
       "scales": {
        "x": "IPY_MODEL_f6c401e17fd14417a6a241698f819d75",
        "y": "IPY_MODEL_4e79f097462a4a9a89df5ef493206a5b"
       },
       "x": {
        "dtype": "int32",
        "shape": [
         10
        ],
        "type": null,
        "value": {}
       },
       "y": {
        "dtype": "float64",
        "shape": [
         10
        ],
        "type": null,
        "value": {}
       }
      }
     },
     "0f756ca14e1748c7a7df71929395f929": {
      "buffers": [
       {
        "data": "AAAAAAEAAAACAAAAAwAAAAQAAAAFAAAABgAAAAcAAAAIAAAACQAAAAoAAAALAAAADAAAAA0AAAAOAAAADwAAABAAAAARAAAAEgAAABMAAAAUAAAAFQAAABYAAAAXAAAAGAAAAA==",
        "encoding": "base64",
        "path": [
         "x",
         "value"
        ]
       },
       {
        "data": "AAAAwG/u0j8AAADgRrXLPwAAAKAI+cU/AAAA4Ok4wj8AAAAgijHAPwAAAKAU0Lw/AAAAgIgOuz8AAADgp8a4PwAAAGA5Mbg/AAAAIN6ptj8AAACAysm1PwAAAEClHLU/AAAAIEFJtD8AAABgvruzPwAAACCvULM/AAAAgGnNsj8AAACg9bayPwAAACApabI/AAAAwHQwsj8AAACg7KuxPwAAAOAxcrE/AAAAoE17sT8AAACAb/ywPwAAAKCIk7A/AAAAQM9usD8=",
        "encoding": "base64",
        "path": [
         "y",
         "value"
        ]
       }
      ],
      "model_module": "bqplot",
      "model_module_version": "^0.5.27",
      "model_name": "LinesModel",
      "state": {
       "_model_module_version": "^0.5.27",
       "_view_module_version": "^0.5.27",
       "colors": [
        "green"
       ],
       "display_legend": true,
       "fill_colors": [],
       "labels": [
        "val"
       ],
       "scales": {
        "x": "IPY_MODEL_5eabdbc51ab84ea7a88b0ae98bb71551",
        "y": "IPY_MODEL_3ef4c92ab5d44b45abe9cd829d4b60c5"
       },
       "x": {
        "dtype": "int32",
        "shape": [
         25
        ],
        "type": null,
        "value": {}
       },
       "y": {
        "dtype": "float64",
        "shape": [
         25
        ],
        "type": null,
        "value": {}
       }
      }
     },
     "11508ed3d1754f2ea855310d509ccd6c": {
      "model_module": "bqplot",
      "model_module_version": "^0.5.27",
      "model_name": "LinearScaleModel",
      "state": {
       "_model_module_version": "^0.5.27",
       "_view_module_version": "^0.5.27",
       "max": 1,
       "min": 0,
       "stabilized": false
      }
     },
     "12e38da0be2d46e7a3d4649b5c82ec17": {
      "buffers": [
       {
        "data": "AAAAAAEAAAACAAAAAwAAAAQAAAAFAAAABgAAAAcAAAAIAAAACQAAAAoAAAALAAAADAAAAA0AAAAOAAAADwAAABAAAAARAAAAEgAAABMAAAAUAAAAFQAAABYAAAAXAAAAGAAAAA==",
        "encoding": "base64",
        "path": [
         "x",
         "value"
        ]
       },
       {
        "data": "AAAAgKdE6T8AAAAA2fTTPwAAACBjD9A/AAAA4DrGyj8AAACA7jHHPwAAAOAUzcQ/AAAA4N8Hwz8AAAAgxqrBPwAAAIBPu8A/AAAAwEGCvz8AAACgv8e9PwAAAGCj2Lw/AAAAQNKMuz8AAACAsly6PwAAAICuEro/AAAAIHTOuD8AAACg4xO4PwAAAKCUorc/AAAAoBT+tT8AAABgYi62PwAAAKC3ObU/AAAAwJQKtT8AAABAxZK0PwAAAGBy4rM/AAAAQEhWsz8=",
        "encoding": "base64",
        "path": [
         "y",
         "value"
        ]
       }
      ],
      "model_module": "bqplot",
      "model_module_version": "^0.5.27",
      "model_name": "LinesModel",
      "state": {
       "_model_module_version": "^0.5.27",
       "_view_module_version": "^0.5.27",
       "colors": [
        "red"
       ],
       "display_legend": true,
       "fill_colors": [],
       "labels": [
        "train"
       ],
       "scales": {
        "x": "IPY_MODEL_2f90e6dc50a240ad84df9d7dd2043dfe",
        "y": "IPY_MODEL_35af2068f8284cbca0fd86a9704da401"
       },
       "x": {
        "dtype": "int32",
        "shape": [
         25
        ],
        "type": null,
        "value": {}
       },
       "y": {
        "dtype": "float64",
        "shape": [
         25
        ],
        "type": null,
        "value": {}
       }
      }
     },
     "1337930426724e778d4cd8d2cbb2eb43": {
      "model_module": "@jupyter-widgets/base",
      "model_module_version": "1.2.0",
      "model_name": "LayoutModel",
      "state": {
       "grid_area": "center"
      }
     },
     "143b79076f914360bc9ad1dea32748a7": {
      "model_module": "bqplot",
      "model_module_version": "^0.5.27",
      "model_name": "AxisModel",
      "state": {
       "_model_module_version": "^0.5.27",
       "_view_module_version": "^0.5.27",
       "label": "training_accuracy",
       "orientation": "vertical",
       "scale": "IPY_MODEL_2ae77ddbc5cf4ca0ac16f06a6e699e32",
       "side": "right",
       "tick_values": null
      }
     },
     "15477c80e27a490995b4ad936b20d15c": {
      "model_module": "bqplot",
      "model_module_version": "^0.5.27",
      "model_name": "LinearScaleModel",
      "state": {
       "_model_module_version": "^0.5.27",
       "_view_module_version": "^0.5.27",
       "allow_padding": false,
       "max": 1,
       "min": 0,
       "stabilized": false
      }
     },
     "154caa8ca8fc4aefb2153e6925e09fef": {
      "model_module": "bqplot",
      "model_module_version": "^0.5.27",
      "model_name": "LinearScaleModel",
      "state": {
       "_model_module_version": "^0.5.27",
       "_view_module_version": "^0.5.27",
       "allow_padding": false,
       "max": 1,
       "min": 0,
       "stabilized": false
      }
     },
     "182b871c054f4a62bf3a066bb463b0a3": {
      "model_module": "bqplot",
      "model_module_version": "^0.5.27",
      "model_name": "AxisModel",
      "state": {
       "_model_module_version": "^0.5.27",
       "_view_module_version": "^0.5.27",
       "label": "auc",
       "orientation": "vertical",
       "scale": "IPY_MODEL_a369592ea38c429f9c72e72a21d4dcc1",
       "side": "left",
       "tick_values": null
      }
     },
     "18582656e3e946bba5b1bfec5fcddf3d": {
      "model_module": "bqplot",
      "model_module_version": "^0.5.27",
      "model_name": "LinearScaleModel",
      "state": {
       "_model_module_version": "^0.5.27",
       "_view_module_version": "^0.5.27",
       "allow_padding": false,
       "max": 1,
       "min": 0,
       "stabilized": false
      }
     },
     "18e57a89c9c5420387a3076a060ab1a4": {
      "model_module": "bqplot",
      "model_module_version": "^0.5.27",
      "model_name": "LinearScaleModel",
      "state": {
       "_model_module_version": "^0.5.27",
       "_view_module_version": "^0.5.27",
       "allow_padding": false,
       "max": 1,
       "min": 0,
       "stabilized": false
      }
     },
     "1f22de677c4c47a9826efff7c71e0ba0": {
      "model_module": "bqplot",
      "model_module_version": "^0.5.27",
      "model_name": "FigureModel",
      "state": {
       "_model_module_version": "^0.5.27",
       "_view_module_version": "^0.5.27",
       "axes": [
        "IPY_MODEL_8d14e81c7913493e8a5094fee0f87e1f",
        "IPY_MODEL_98babcdd593344a6b9ea18828c5dadbd"
       ],
       "layout": "IPY_MODEL_4b77064b7ddf4f659b22b54558648711",
       "legend_location": "bottom",
       "marks": [
        "IPY_MODEL_981bc769859c4067940280176f6071f4",
        "IPY_MODEL_a0af4628ea354fcbbd2f794867dcd36f"
       ],
       "scale_x": "IPY_MODEL_dfa49de63e8a47f4966cbd78509050c6",
       "scale_y": "IPY_MODEL_bfcde4428a394255beb2f20927712a83",
       "title": "accuracy"
      }
     },
     "1f5a0d77358d4b8f9cafa459700e1a57": {
      "buffers": [
       {
        "data": "AAAAAAEAAAACAAAAAwAAAAQAAAAFAAAABgAAAAcAAAAIAAAACQAAAAoAAAALAAAADAAAAA0AAAAOAAAADwAAABAAAAARAAAAEgAAABMAAAAUAAAAFQAAABYAAAAXAAAAGAAAAA==",
        "encoding": "base64",
        "path": [
         "x",
         "value"
        ]
       },
       {
        "data": "AAAAACKu6D8AAABAH/XSPwAAAKA3aM0/AAAAQIzExz8AAAAgp+TEPwAAAODXh8I/AAAAALT/wD8AAABAgQbAPwAAAKCU170/AAAA4BCrvD8AAACgBkK7PwAAAOAQALo/AAAA4FjiuD8AAABA8lq4PwAAAKAftLc/AAAA4KIotz8AAABgo8S1PwAAAMBkgLU/AAAAQPAatT8AAACAqWq0PwAAACCtQrQ/AAAAwMa0sz8AAADgXF+zPwAAAKADlrI/AAAA4B9rsj8=",
        "encoding": "base64",
        "path": [
         "y",
         "value"
        ]
       }
      ],
      "model_module": "bqplot",
      "model_module_version": "^0.5.27",
      "model_name": "LinesModel",
      "state": {
       "_model_module_version": "^0.5.27",
       "_view_module_version": "^0.5.27",
       "colors": [
        "red"
       ],
       "display_legend": true,
       "fill_colors": [],
       "labels": [
        "train"
       ],
       "scales": {
        "x": "IPY_MODEL_5eabdbc51ab84ea7a88b0ae98bb71551",
        "y": "IPY_MODEL_3ef4c92ab5d44b45abe9cd829d4b60c5"
       },
       "x": {
        "dtype": "int32",
        "shape": [
         25
        ],
        "type": null,
        "value": {}
       },
       "y": {
        "dtype": "float64",
        "shape": [
         25
        ],
        "type": null,
        "value": {}
       }
      }
     },
     "20c26b4583f44029a149b5b104045cee": {
      "model_module": "bqplot",
      "model_module_version": "^0.5.27",
      "model_name": "FigureModel",
      "state": {
       "_model_module_version": "^0.5.27",
       "_view_module_version": "^0.5.27",
       "axes": [
        "IPY_MODEL_922d97deeb8440429996ac3e7eafde50",
        "IPY_MODEL_512b52804f9f450aa928eb3af8eb05c9"
       ],
       "layout": "IPY_MODEL_23b3c908cff24220bb9ea19e13de75de",
       "legend_location": "bottom",
       "marks": [
        "IPY_MODEL_6cf2e9a9ce9b4f76aadfe13275c99394",
        "IPY_MODEL_c9e5b797e2bd4016a42bbd06e6b03da3"
       ],
       "scale_x": "IPY_MODEL_7d0bf8e32e7e4404b4042cff67bd5835",
       "scale_y": "IPY_MODEL_341b52dcefc6402685d4143c0dcec244",
       "title": "auc"
      }
     },
     "211802520e114ebaac5c9bd74a2f2307": {
      "model_module": "@jupyter-widgets/output",
      "model_module_version": "1.0.0",
      "model_name": "OutputModel",
      "state": {
       "layout": "IPY_MODEL_31dcb056910c4a9aa9ba689de1e944a5",
       "outputs": [
        {
         "data": {
          "text/html": "<style  type=\"text/css\" >\n    #T_b13397ec_be9a_11eb_85a9_a483e719d149row0_col0 {\n            background-color:  #e67575;\n        }    #T_b13397ec_be9a_11eb_85a9_a483e719d149row0_col1 {\n            background-color:  #e67575;\n        }    #T_b13397ec_be9a_11eb_85a9_a483e719d149row0_col2 {\n            background-color:  #5fba7d;\n        }    #T_b13397ec_be9a_11eb_85a9_a483e719d149row0_col3 {\n            background-color:  #5fba7d;\n        }    #T_b13397ec_be9a_11eb_85a9_a483e719d149row0_col4 {\n            background-color:  #5fba7d;\n        }    #T_b13397ec_be9a_11eb_85a9_a483e719d149row0_col5 {\n            background-color:  #5fba7d;\n        }    #T_b13397ec_be9a_11eb_85a9_a483e719d149row24_col0 {\n            background-color:  #5fba7d;\n        }    #T_b13397ec_be9a_11eb_85a9_a483e719d149row24_col1 {\n            background-color:  #5fba7d;\n        }    #T_b13397ec_be9a_11eb_85a9_a483e719d149row24_col2 {\n            background-color:  #e67575;\n        }    #T_b13397ec_be9a_11eb_85a9_a483e719d149row24_col3 {\n            background-color:  #e67575;\n        }    #T_b13397ec_be9a_11eb_85a9_a483e719d149row24_col4 {\n            background-color:  #e67575;\n        }    #T_b13397ec_be9a_11eb_85a9_a483e719d149row24_col5 {\n            background-color:  #e67575;\n        }</style><table id=\"T_b13397ec_be9a_11eb_85a9_a483e719d149\" ><thead>    <tr>        <th class=\"blank level0\" ></th>        <th class=\"col_heading level0 col0\" >loss</th>        <th class=\"col_heading level0 col1\" >val_loss</th>        <th class=\"col_heading level0 col2\" >accuracy</th>        <th class=\"col_heading level0 col3\" >auc</th>        <th class=\"col_heading level0 col4\" >val_accuracy</th>        <th class=\"col_heading level0 col5\" >val_auc</th>    </tr></thead><tbody>\n                <tr>\n                        <th id=\"T_b13397ec_be9a_11eb_85a9_a483e719d149level0_row0\" class=\"row_heading level0 row0\" >0</th>\n                        <td id=\"T_b13397ec_be9a_11eb_85a9_a483e719d149row0_col0\" class=\"data row0 col0\" >0.738302</td>\n                        <td id=\"T_b13397ec_be9a_11eb_85a9_a483e719d149row0_col1\" class=\"data row0 col1\" >0.295546</td>\n                        <td id=\"T_b13397ec_be9a_11eb_85a9_a483e719d149row0_col2\" class=\"data row0 col2\" >0.803875</td>\n                        <td id=\"T_b13397ec_be9a_11eb_85a9_a483e719d149row0_col3\" class=\"data row0 col3\" >0.973734</td>\n                        <td id=\"T_b13397ec_be9a_11eb_85a9_a483e719d149row0_col4\" class=\"data row0 col4\" >0.916</td>\n                        <td id=\"T_b13397ec_be9a_11eb_85a9_a483e719d149row0_col5\" class=\"data row0 col5\" >0.992997</td>\n            </tr>\n            <tr>\n                        <th id=\"T_b13397ec_be9a_11eb_85a9_a483e719d149level0_row1\" class=\"row_heading level0 row1\" >1</th>\n                        <td id=\"T_b13397ec_be9a_11eb_85a9_a483e719d149row1_col0\" class=\"data row1 col0\" >0.307169</td>\n                        <td id=\"T_b13397ec_be9a_11eb_85a9_a483e719d149row1_col1\" class=\"data row1 col1\" >0.226003</td>\n                        <td id=\"T_b13397ec_be9a_11eb_85a9_a483e719d149row1_col2\" class=\"data row1 col2\" >0.9095</td>\n                        <td id=\"T_b13397ec_be9a_11eb_85a9_a483e719d149row1_col3\" class=\"data row1 col3\" >0.99267</td>\n                        <td id=\"T_b13397ec_be9a_11eb_85a9_a483e719d149row1_col4\" class=\"data row1 col4\" >0.938083</td>\n                        <td id=\"T_b13397ec_be9a_11eb_85a9_a483e719d149row1_col5\" class=\"data row1 col5\" >0.995071</td>\n            </tr>\n            <tr>\n                        <th id=\"T_b13397ec_be9a_11eb_85a9_a483e719d149level0_row2\" class=\"row_heading level0 row2\" >2</th>\n                        <td id=\"T_b13397ec_be9a_11eb_85a9_a483e719d149row2_col0\" class=\"data row2 col0\" >0.242217</td>\n                        <td id=\"T_b13397ec_be9a_11eb_85a9_a483e719d149row2_col1\" class=\"data row2 col1\" >0.186182</td>\n                        <td id=\"T_b13397ec_be9a_11eb_85a9_a483e719d149row2_col2\" class=\"data row2 col2\" >0.928229</td>\n                        <td id=\"T_b13397ec_be9a_11eb_85a9_a483e719d149row2_col3\" class=\"data row2 col3\" >0.994941</td>\n                        <td id=\"T_b13397ec_be9a_11eb_85a9_a483e719d149row2_col4\" class=\"data row2 col4\" >0.949083</td>\n                        <td id=\"T_b13397ec_be9a_11eb_85a9_a483e719d149row2_col5\" class=\"data row2 col5\" >0.996406</td>\n            </tr>\n            <tr>\n                        <th id=\"T_b13397ec_be9a_11eb_85a9_a483e719d149level0_row3\" class=\"row_heading level0 row3\" >3</th>\n                        <td id=\"T_b13397ec_be9a_11eb_85a9_a483e719d149row3_col0\" class=\"data row3 col0\" >0.200212</td>\n                        <td id=\"T_b13397ec_be9a_11eb_85a9_a483e719d149row3_col1\" class=\"data row3 col1\" >0.155887</td>\n                        <td id=\"T_b13397ec_be9a_11eb_85a9_a483e719d149row3_col2\" class=\"data row3 col2\" >0.941792</td>\n                        <td id=\"T_b13397ec_be9a_11eb_85a9_a483e719d149row3_col3\" class=\"data row3 col3\" >0.996373</td>\n                        <td id=\"T_b13397ec_be9a_11eb_85a9_a483e719d149row3_col4\" class=\"data row3 col4\" >0.959417</td>\n                        <td id=\"T_b13397ec_be9a_11eb_85a9_a483e719d149row3_col5\" class=\"data row3 col5\" >0.997189</td>\n            </tr>\n            <tr>\n                        <th id=\"T_b13397ec_be9a_11eb_85a9_a483e719d149level0_row4\" class=\"row_heading level0 row4\" >4</th>\n                        <td id=\"T_b13397ec_be9a_11eb_85a9_a483e719d149row4_col0\" class=\"data row4 col0\" >0.172613</td>\n                        <td id=\"T_b13397ec_be9a_11eb_85a9_a483e719d149row4_col1\" class=\"data row4 col1\" >0.13369</td>\n                        <td id=\"T_b13397ec_be9a_11eb_85a9_a483e719d149row4_col2\" class=\"data row4 col2\" >0.949479</td>\n                        <td id=\"T_b13397ec_be9a_11eb_85a9_a483e719d149row4_col3\" class=\"data row4 col3\" >0.997204</td>\n                        <td id=\"T_b13397ec_be9a_11eb_85a9_a483e719d149row4_col4\" class=\"data row4 col4\" >0.963417</td>\n                        <td id=\"T_b13397ec_be9a_11eb_85a9_a483e719d149row4_col5\" class=\"data row4 col5\" >0.997766</td>\n            </tr>\n            <tr>\n                        <th id=\"T_b13397ec_be9a_11eb_85a9_a483e719d149level0_row5\" class=\"row_heading level0 row5\" >5</th>\n                        <td id=\"T_b13397ec_be9a_11eb_85a9_a483e719d149row5_col0\" class=\"data row5 col0\" >0.151482</td>\n                        <td id=\"T_b13397ec_be9a_11eb_85a9_a483e719d149row5_col1\" class=\"data row5 col1\" >0.117813</td>\n                        <td id=\"T_b13397ec_be9a_11eb_85a9_a483e719d149row5_col2\" class=\"data row5 col2\" >0.955708</td>\n                        <td id=\"T_b13397ec_be9a_11eb_85a9_a483e719d149row5_col3\" class=\"data row5 col3\" >0.997691</td>\n                        <td id=\"T_b13397ec_be9a_11eb_85a9_a483e719d149row5_col4\" class=\"data row5 col4\" >0.968333</td>\n                        <td id=\"T_b13397ec_be9a_11eb_85a9_a483e719d149row5_col5\" class=\"data row5 col5\" >0.997939</td>\n            </tr>\n            <tr>\n                        <th id=\"T_b13397ec_be9a_11eb_85a9_a483e719d149level0_row6\" class=\"row_heading level0 row6\" >6</th>\n                        <td id=\"T_b13397ec_be9a_11eb_85a9_a483e719d149row6_col0\" class=\"data row6 col0\" >0.138154</td>\n                        <td id=\"T_b13397ec_be9a_11eb_85a9_a483e719d149row6_col1\" class=\"data row6 col1\" >0.108833</td>\n                        <td id=\"T_b13397ec_be9a_11eb_85a9_a483e719d149row6_col2\" class=\"data row6 col2\" >0.959542</td>\n                        <td id=\"T_b13397ec_be9a_11eb_85a9_a483e719d149row6_col3\" class=\"data row6 col3\" >0.998042</td>\n                        <td id=\"T_b13397ec_be9a_11eb_85a9_a483e719d149row6_col4\" class=\"data row6 col4\" >0.971</td>\n                        <td id=\"T_b13397ec_be9a_11eb_85a9_a483e719d149row6_col5\" class=\"data row6 col5\" >0.9982</td>\n            </tr>\n            <tr>\n                        <th id=\"T_b13397ec_be9a_11eb_85a9_a483e719d149level0_row7\" class=\"row_heading level0 row7\" >7</th>\n                        <td id=\"T_b13397ec_be9a_11eb_85a9_a483e719d149row7_col0\" class=\"data row7 col0\" >0.129539</td>\n                        <td id=\"T_b13397ec_be9a_11eb_85a9_a483e719d149row7_col1\" class=\"data row7 col1\" >0.100338</td>\n                        <td id=\"T_b13397ec_be9a_11eb_85a9_a483e719d149row7_col2\" class=\"data row7 col2\" >0.962625</td>\n                        <td id=\"T_b13397ec_be9a_11eb_85a9_a483e719d149row7_col3\" class=\"data row7 col3\" >0.998152</td>\n                        <td id=\"T_b13397ec_be9a_11eb_85a9_a483e719d149row7_col4\" class=\"data row7 col4\" >0.97325</td>\n                        <td id=\"T_b13397ec_be9a_11eb_85a9_a483e719d149row7_col5\" class=\"data row7 col5\" >0.998581</td>\n            </tr>\n            <tr>\n                        <th id=\"T_b13397ec_be9a_11eb_85a9_a483e719d149level0_row8\" class=\"row_heading level0 row8\" >8</th>\n                        <td id=\"T_b13397ec_be9a_11eb_85a9_a483e719d149row8_col0\" class=\"data row8 col0\" >0.120245</td>\n                        <td id=\"T_b13397ec_be9a_11eb_85a9_a483e719d149row8_col1\" class=\"data row8 col1\" >0.0953678</td>\n                        <td id=\"T_b13397ec_be9a_11eb_85a9_a483e719d149row8_col2\" class=\"data row8 col2\" >0.965083</td>\n                        <td id=\"T_b13397ec_be9a_11eb_85a9_a483e719d149row8_col3\" class=\"data row8 col3\" >0.998299</td>\n                        <td id=\"T_b13397ec_be9a_11eb_85a9_a483e719d149row8_col4\" class=\"data row8 col4\" >0.975167</td>\n                        <td id=\"T_b13397ec_be9a_11eb_85a9_a483e719d149row8_col5\" class=\"data row8 col5\" >0.998663</td>\n            </tr>\n            <tr>\n                        <th id=\"T_b13397ec_be9a_11eb_85a9_a483e719d149level0_row9\" class=\"row_heading level0 row9\" >9</th>\n                        <td id=\"T_b13397ec_be9a_11eb_85a9_a483e719d149row9_col0\" class=\"data row9 col0\" >0.114107</td>\n                        <td id=\"T_b13397ec_be9a_11eb_85a9_a483e719d149row9_col1\" class=\"data row9 col1\" >0.0889899</td>\n                        <td id=\"T_b13397ec_be9a_11eb_85a9_a483e719d149row9_col2\" class=\"data row9 col2\" >0.966438</td>\n                        <td id=\"T_b13397ec_be9a_11eb_85a9_a483e719d149row9_col3\" class=\"data row9 col3\" >0.99845</td>\n                        <td id=\"T_b13397ec_be9a_11eb_85a9_a483e719d149row9_col4\" class=\"data row9 col4\" >0.975833</td>\n                        <td id=\"T_b13397ec_be9a_11eb_85a9_a483e719d149row9_col5\" class=\"data row9 col5\" >0.998856</td>\n            </tr>\n            <tr>\n                        <th id=\"T_b13397ec_be9a_11eb_85a9_a483e719d149level0_row10\" class=\"row_heading level0 row10\" >10</th>\n                        <td id=\"T_b13397ec_be9a_11eb_85a9_a483e719d149row10_col0\" class=\"data row10 col0\" >0.106762</td>\n                        <td id=\"T_b13397ec_be9a_11eb_85a9_a483e719d149row10_col1\" class=\"data row10 col1\" >0.0863068</td>\n                        <td id=\"T_b13397ec_be9a_11eb_85a9_a483e719d149row10_col2\" class=\"data row10 col2\" >0.968333</td>\n                        <td id=\"T_b13397ec_be9a_11eb_85a9_a483e719d149row10_col3\" class=\"data row10 col3\" >0.998582</td>\n                        <td id=\"T_b13397ec_be9a_11eb_85a9_a483e719d149row10_col4\" class=\"data row10 col4\" >0.97675</td>\n                        <td id=\"T_b13397ec_be9a_11eb_85a9_a483e719d149row10_col5\" class=\"data row10 col5\" >0.998813</td>\n            </tr>\n            <tr>\n                        <th id=\"T_b13397ec_be9a_11eb_85a9_a483e719d149level0_row11\" class=\"row_heading level0 row11\" >11</th>\n                        <td id=\"T_b13397ec_be9a_11eb_85a9_a483e719d149row11_col0\" class=\"data row11 col0\" >0.102902</td>\n                        <td id=\"T_b13397ec_be9a_11eb_85a9_a483e719d149row11_col1\" class=\"data row11 col1\" >0.0815856</td>\n                        <td id=\"T_b13397ec_be9a_11eb_85a9_a483e719d149row11_col2\" class=\"data row11 col2\" >0.968854</td>\n                        <td id=\"T_b13397ec_be9a_11eb_85a9_a483e719d149row11_col3\" class=\"data row11 col3\" >0.998768</td>\n                        <td id=\"T_b13397ec_be9a_11eb_85a9_a483e719d149row11_col4\" class=\"data row11 col4\" >0.978083</td>\n                        <td id=\"T_b13397ec_be9a_11eb_85a9_a483e719d149row11_col5\" class=\"data row11 col5\" >0.999004</td>\n            </tr>\n            <tr>\n                        <th id=\"T_b13397ec_be9a_11eb_85a9_a483e719d149level0_row12\" class=\"row_heading level0 row12\" >12</th>\n                        <td id=\"T_b13397ec_be9a_11eb_85a9_a483e719d149row12_col0\" class=\"data row12 col0\" >0.0991392</td>\n                        <td id=\"T_b13397ec_be9a_11eb_85a9_a483e719d149row12_col1\" class=\"data row12 col1\" >0.0793409</td>\n                        <td id=\"T_b13397ec_be9a_11eb_85a9_a483e719d149row12_col2\" class=\"data row12 col2\" >0.970729</td>\n                        <td id=\"T_b13397ec_be9a_11eb_85a9_a483e719d149row12_col3\" class=\"data row12 col3\" >0.998697</td>\n                        <td id=\"T_b13397ec_be9a_11eb_85a9_a483e719d149row12_col4\" class=\"data row12 col4\" >0.977333</td>\n                        <td id=\"T_b13397ec_be9a_11eb_85a9_a483e719d149row12_col5\" class=\"data row12 col5\" >0.998952</td>\n            </tr>\n            <tr>\n                        <th id=\"T_b13397ec_be9a_11eb_85a9_a483e719d149level0_row13\" class=\"row_heading level0 row13\" >13</th>\n                        <td id=\"T_b13397ec_be9a_11eb_85a9_a483e719d149row13_col0\" class=\"data row13 col0\" >0.0959814</td>\n                        <td id=\"T_b13397ec_be9a_11eb_85a9_a483e719d149row13_col1\" class=\"data row13 col1\" >0.0779049</td>\n                        <td id=\"T_b13397ec_be9a_11eb_85a9_a483e719d149row13_col2\" class=\"data row13 col2\" >0.971083</td>\n                        <td id=\"T_b13397ec_be9a_11eb_85a9_a483e719d149row13_col3\" class=\"data row13 col3\" >0.998826</td>\n                        <td id=\"T_b13397ec_be9a_11eb_85a9_a483e719d149row13_col4\" class=\"data row13 col4\" >0.97825</td>\n                        <td id=\"T_b13397ec_be9a_11eb_85a9_a483e719d149row13_col5\" class=\"data row13 col5\" >0.998891</td>\n            </tr>\n            <tr>\n                        <th id=\"T_b13397ec_be9a_11eb_85a9_a483e719d149level0_row14\" class=\"row_heading level0 row14\" >14</th>\n                        <td id=\"T_b13397ec_be9a_11eb_85a9_a483e719d149row14_col0\" class=\"data row14 col0\" >0.0931404</td>\n                        <td id=\"T_b13397ec_be9a_11eb_85a9_a483e719d149row14_col1\" class=\"data row14 col1\" >0.076381</td>\n                        <td id=\"T_b13397ec_be9a_11eb_85a9_a483e719d149row14_col2\" class=\"data row14 col2\" >0.971979</td>\n                        <td id=\"T_b13397ec_be9a_11eb_85a9_a483e719d149row14_col3\" class=\"data row14 col3\" >0.998885</td>\n                        <td id=\"T_b13397ec_be9a_11eb_85a9_a483e719d149row14_col4\" class=\"data row14 col4\" >0.979417</td>\n                        <td id=\"T_b13397ec_be9a_11eb_85a9_a483e719d149row14_col5\" class=\"data row14 col5\" >0.99894</td>\n            </tr>\n            <tr>\n                        <th id=\"T_b13397ec_be9a_11eb_85a9_a483e719d149level0_row15\" class=\"row_heading level0 row15\" >15</th>\n                        <td id=\"T_b13397ec_be9a_11eb_85a9_a483e719d149row15_col0\" class=\"data row15 col0\" >0.0884307</td>\n                        <td id=\"T_b13397ec_be9a_11eb_85a9_a483e719d149row15_col1\" class=\"data row15 col1\" >0.0734489</td>\n                        <td id=\"T_b13397ec_be9a_11eb_85a9_a483e719d149row15_col2\" class=\"data row15 col2\" >0.972979</td>\n                        <td id=\"T_b13397ec_be9a_11eb_85a9_a483e719d149row15_col3\" class=\"data row15 col3\" >0.998897</td>\n                        <td id=\"T_b13397ec_be9a_11eb_85a9_a483e719d149row15_col4\" class=\"data row15 col4\" >0.979583</td>\n                        <td id=\"T_b13397ec_be9a_11eb_85a9_a483e719d149row15_col5\" class=\"data row15 col5\" >0.998959</td>\n            </tr>\n            <tr>\n                        <th id=\"T_b13397ec_be9a_11eb_85a9_a483e719d149level0_row16\" class=\"row_heading level0 row16\" >16</th>\n                        <td id=\"T_b13397ec_be9a_11eb_85a9_a483e719d149row16_col0\" class=\"data row16 col0\" >0.0863838</td>\n                        <td id=\"T_b13397ec_be9a_11eb_85a9_a483e719d149row16_col1\" class=\"data row16 col1\" >0.0718741</td>\n                        <td id=\"T_b13397ec_be9a_11eb_85a9_a483e719d149row16_col2\" class=\"data row16 col2\" >0.973667</td>\n                        <td id=\"T_b13397ec_be9a_11eb_85a9_a483e719d149row16_col3\" class=\"data row16 col3\" >0.998947</td>\n                        <td id=\"T_b13397ec_be9a_11eb_85a9_a483e719d149row16_col4\" class=\"data row16 col4\" >0.980667</td>\n                        <td id=\"T_b13397ec_be9a_11eb_85a9_a483e719d149row16_col5\" class=\"data row16 col5\" >0.999011</td>\n            </tr>\n            <tr>\n                        <th id=\"T_b13397ec_be9a_11eb_85a9_a483e719d149level0_row17\" class=\"row_heading level0 row17\" >17</th>\n                        <td id=\"T_b13397ec_be9a_11eb_85a9_a483e719d149row17_col0\" class=\"data row17 col0\" >0.0840162</td>\n                        <td id=\"T_b13397ec_be9a_11eb_85a9_a483e719d149row17_col1\" class=\"data row17 col1\" >0.0710025</td>\n                        <td id=\"T_b13397ec_be9a_11eb_85a9_a483e719d149row17_col2\" class=\"data row17 col2\" >0.974896</td>\n                        <td id=\"T_b13397ec_be9a_11eb_85a9_a483e719d149row17_col3\" class=\"data row17 col3\" >0.998922</td>\n                        <td id=\"T_b13397ec_be9a_11eb_85a9_a483e719d149row17_col4\" class=\"data row17 col4\" >0.980333</td>\n                        <td id=\"T_b13397ec_be9a_11eb_85a9_a483e719d149row17_col5\" class=\"data row17 col5\" >0.999067</td>\n            </tr>\n            <tr>\n                        <th id=\"T_b13397ec_be9a_11eb_85a9_a483e719d149level0_row18\" class=\"row_heading level0 row18\" >18</th>\n                        <td id=\"T_b13397ec_be9a_11eb_85a9_a483e719d149row18_col0\" class=\"data row18 col0\" >0.0820607</td>\n                        <td id=\"T_b13397ec_be9a_11eb_85a9_a483e719d149row18_col1\" class=\"data row18 col1\" >0.0706397</td>\n                        <td id=\"T_b13397ec_be9a_11eb_85a9_a483e719d149row18_col2\" class=\"data row18 col2\" >0.975208</td>\n                        <td id=\"T_b13397ec_be9a_11eb_85a9_a483e719d149row18_col3\" class=\"data row18 col3\" >0.998977</td>\n                        <td id=\"T_b13397ec_be9a_11eb_85a9_a483e719d149row18_col4\" class=\"data row18 col4\" >0.980833</td>\n                        <td id=\"T_b13397ec_be9a_11eb_85a9_a483e719d149row18_col5\" class=\"data row18 col5\" >0.998988</td>\n            </tr>\n            <tr>\n                        <th id=\"T_b13397ec_be9a_11eb_85a9_a483e719d149level0_row19\" class=\"row_heading level0 row19\" >19</th>\n                        <td id=\"T_b13397ec_be9a_11eb_85a9_a483e719d149row19_col0\" class=\"data row19 col0\" >0.0799882</td>\n                        <td id=\"T_b13397ec_be9a_11eb_85a9_a483e719d149row19_col1\" class=\"data row19 col1\" >0.0689294</td>\n                        <td id=\"T_b13397ec_be9a_11eb_85a9_a483e719d149row19_col2\" class=\"data row19 col2\" >0.975208</td>\n                        <td id=\"T_b13397ec_be9a_11eb_85a9_a483e719d149row19_col3\" class=\"data row19 col3\" >0.999164</td>\n                        <td id=\"T_b13397ec_be9a_11eb_85a9_a483e719d149row19_col4\" class=\"data row19 col4\" >0.981083</td>\n                        <td id=\"T_b13397ec_be9a_11eb_85a9_a483e719d149row19_col5\" class=\"data row19 col5\" >0.999081</td>\n            </tr>\n            <tr>\n                        <th id=\"T_b13397ec_be9a_11eb_85a9_a483e719d149level0_row20\" class=\"row_heading level0 row20\" >20</th>\n                        <td id=\"T_b13397ec_be9a_11eb_85a9_a483e719d149row20_col0\" class=\"data row20 col0\" >0.0770241</td>\n                        <td id=\"T_b13397ec_be9a_11eb_85a9_a483e719d149row20_col1\" class=\"data row20 col1\" >0.0669868</td>\n                        <td id=\"T_b13397ec_be9a_11eb_85a9_a483e719d149row20_col2\" class=\"data row20 col2\" >0.975563</td>\n                        <td id=\"T_b13397ec_be9a_11eb_85a9_a483e719d149row20_col3\" class=\"data row20 col3\" >0.999178</td>\n                        <td id=\"T_b13397ec_be9a_11eb_85a9_a483e719d149row20_col4\" class=\"data row20 col4\" >0.98175</td>\n                        <td id=\"T_b13397ec_be9a_11eb_85a9_a483e719d149row20_col5\" class=\"data row20 col5\" >0.999094</td>\n            </tr>\n            <tr>\n                        <th id=\"T_b13397ec_be9a_11eb_85a9_a483e719d149level0_row21\" class=\"row_heading level0 row21\" >21</th>\n                        <td id=\"T_b13397ec_be9a_11eb_85a9_a483e719d149row21_col0\" class=\"data row21 col0\" >0.0762305</td>\n                        <td id=\"T_b13397ec_be9a_11eb_85a9_a483e719d149row21_col1\" class=\"data row21 col1\" >0.0655991</td>\n                        <td id=\"T_b13397ec_be9a_11eb_85a9_a483e719d149row21_col2\" class=\"data row21 col2\" >0.976458</td>\n                        <td id=\"T_b13397ec_be9a_11eb_85a9_a483e719d149row21_col3\" class=\"data row21 col3\" >0.999114</td>\n                        <td id=\"T_b13397ec_be9a_11eb_85a9_a483e719d149row21_col4\" class=\"data row21 col4\" >0.981417</td>\n                        <td id=\"T_b13397ec_be9a_11eb_85a9_a483e719d149row21_col5\" class=\"data row21 col5\" >0.999148</td>\n            </tr>\n            <tr>\n                        <th id=\"T_b13397ec_be9a_11eb_85a9_a483e719d149level0_row22\" class=\"row_heading level0 row22\" >22</th>\n                        <td id=\"T_b13397ec_be9a_11eb_85a9_a483e719d149row22_col0\" class=\"data row22 col0\" >0.0750235</td>\n                        <td id=\"T_b13397ec_be9a_11eb_85a9_a483e719d149row22_col1\" class=\"data row22 col1\" >0.0655092</td>\n                        <td id=\"T_b13397ec_be9a_11eb_85a9_a483e719d149row22_col2\" class=\"data row22 col2\" >0.977</td>\n                        <td id=\"T_b13397ec_be9a_11eb_85a9_a483e719d149row22_col3\" class=\"data row22 col3\" >0.999121</td>\n                        <td id=\"T_b13397ec_be9a_11eb_85a9_a483e719d149row22_col4\" class=\"data row22 col4\" >0.981917</td>\n                        <td id=\"T_b13397ec_be9a_11eb_85a9_a483e719d149row22_col5\" class=\"data row22 col5\" >0.999107</td>\n            </tr>\n            <tr>\n                        <th id=\"T_b13397ec_be9a_11eb_85a9_a483e719d149level0_row23\" class=\"row_heading level0 row23\" >23</th>\n                        <td id=\"T_b13397ec_be9a_11eb_85a9_a483e719d149row23_col0\" class=\"data row23 col0\" >0.0724196</td>\n                        <td id=\"T_b13397ec_be9a_11eb_85a9_a483e719d149row23_col1\" class=\"data row23 col1\" >0.0643986</td>\n                        <td id=\"T_b13397ec_be9a_11eb_85a9_a483e719d149row23_col2\" class=\"data row23 col2\" >0.977437</td>\n                        <td id=\"T_b13397ec_be9a_11eb_85a9_a483e719d149row23_col3\" class=\"data row23 col3\" >0.999158</td>\n                        <td id=\"T_b13397ec_be9a_11eb_85a9_a483e719d149row23_col4\" class=\"data row23 col4\" >0.982167</td>\n                        <td id=\"T_b13397ec_be9a_11eb_85a9_a483e719d149row23_col5\" class=\"data row23 col5\" >0.999118</td>\n            </tr>\n            <tr>\n                        <th id=\"T_b13397ec_be9a_11eb_85a9_a483e719d149level0_row24\" class=\"row_heading level0 row24\" >24</th>\n                        <td id=\"T_b13397ec_be9a_11eb_85a9_a483e719d149row24_col0\" class=\"data row24 col0\" >0.0713314</td>\n                        <td id=\"T_b13397ec_be9a_11eb_85a9_a483e719d149row24_col1\" class=\"data row24 col1\" >0.063667</td>\n                        <td id=\"T_b13397ec_be9a_11eb_85a9_a483e719d149row24_col2\" class=\"data row24 col2\" >0.977521</td>\n                        <td id=\"T_b13397ec_be9a_11eb_85a9_a483e719d149row24_col3\" class=\"data row24 col3\" >0.99922</td>\n                        <td id=\"T_b13397ec_be9a_11eb_85a9_a483e719d149row24_col4\" class=\"data row24 col4\" >0.982417</td>\n                        <td id=\"T_b13397ec_be9a_11eb_85a9_a483e719d149row24_col5\" class=\"data row24 col5\" >0.999172</td>\n            </tr>\n    </tbody></table>",
          "text/plain": "<pandas.io.formats.style.Styler at 0x6436bffd0>"
         },
         "metadata": {},
         "output_type": "display_data"
        }
       ]
      }
     },
     "23b3c908cff24220bb9ea19e13de75de": {
      "model_module": "@jupyter-widgets/base",
      "model_module_version": "1.2.0",
      "model_name": "LayoutModel",
      "state": {
       "grid_area": "center"
      }
     },
     "25812a85abf84c0faae293db15aa7e91": {
      "model_module": "bqplot",
      "model_module_version": "^0.5.27",
      "model_name": "LinearScaleModel",
      "state": {
       "_model_module_version": "^0.5.27",
       "_view_module_version": "^0.5.27",
       "allow_padding": false,
       "max": 1,
       "min": 0,
       "stabilized": false
      }
     },
     "29d969efc34845b3860f8f35c33c8885": {
      "model_module": "@jupyter-widgets/base",
      "model_module_version": "1.2.0",
      "model_name": "LayoutModel",
      "state": {
       "align_items": "center",
       "display": "flex",
       "flex_flow": "column"
      }
     },
     "2ae77ddbc5cf4ca0ac16f06a6e699e32": {
      "model_module": "bqplot",
      "model_module_version": "^0.5.27",
      "model_name": "LinearScaleModel",
      "state": {
       "_model_module_version": "^0.5.27",
       "_view_module_version": "^0.5.27",
       "max": 1,
       "min": 0,
       "stabilized": false
      }
     },
     "2eac17f43d964523adf5ae78e2befd72": {
      "model_module": "bqplot",
      "model_module_version": "^0.5.27",
      "model_name": "AxisModel",
      "state": {
       "_model_module_version": "^0.5.27",
       "_view_module_version": "^0.5.27",
       "label": "training_accuracy",
       "orientation": "vertical",
       "scale": "IPY_MODEL_30c34b892060442caefde731d4c2a846",
       "side": "right",
       "tick_values": null
      }
     },
     "2f90e6dc50a240ad84df9d7dd2043dfe": {
      "model_module": "bqplot",
      "model_module_version": "^0.5.27",
      "model_name": "OrdinalScaleModel",
      "state": {
       "_model_module_version": "^0.5.27",
       "_view_module_version": "^0.5.27"
      }
     },
     "30c34b892060442caefde731d4c2a846": {
      "model_module": "bqplot",
      "model_module_version": "^0.5.27",
      "model_name": "LinearScaleModel",
      "state": {
       "_model_module_version": "^0.5.27",
       "_view_module_version": "^0.5.27",
       "max": 1,
       "min": 0,
       "stabilized": false
      }
     },
     "31dcb056910c4a9aa9ba689de1e944a5": {
      "model_module": "@jupyter-widgets/base",
      "model_module_version": "1.2.0",
      "model_name": "LayoutModel",
      "state": {}
     },
     "338735948d944bcf897781186aa6a4a5": {
      "model_module": "@jupyter-widgets/base",
      "model_module_version": "1.2.0",
      "model_name": "LayoutModel",
      "state": {
       "grid_area": "left-sidebar"
      }
     },
     "341b52dcefc6402685d4143c0dcec244": {
      "model_module": "bqplot",
      "model_module_version": "^0.5.27",
      "model_name": "LinearScaleModel",
      "state": {
       "_model_module_version": "^0.5.27",
       "_view_module_version": "^0.5.27",
       "allow_padding": false,
       "max": 1,
       "min": 0,
       "stabilized": false
      }
     },
     "35af2068f8284cbca0fd86a9704da401": {
      "model_module": "bqplot",
      "model_module_version": "^0.5.27",
      "model_name": "LinearScaleModel",
      "state": {
       "_model_module_version": "^0.5.27",
       "_view_module_version": "^0.5.27",
       "min": 0,
       "stabilized": false
      }
     },
     "378cc769e43f483f8f5d767933456e1e": {
      "model_module": "bqplot",
      "model_module_version": "^0.5.27",
      "model_name": "LinearScaleModel",
      "state": {
       "_model_module_version": "^0.5.27",
       "_view_module_version": "^0.5.27",
       "allow_padding": false,
       "max": 1,
       "min": 0,
       "stabilized": false
      }
     },
     "3da42a91bddb4c7db1508ff5080965dd": {
      "model_module": "bqplot",
      "model_module_version": "^0.5.27",
      "model_name": "LinearScaleModel",
      "state": {
       "_model_module_version": "^0.5.27",
       "_view_module_version": "^0.5.27",
       "allow_padding": false,
       "max": 1,
       "min": 0,
       "stabilized": false
      }
     },
     "3ef4c92ab5d44b45abe9cd829d4b60c5": {
      "model_module": "bqplot",
      "model_module_version": "^0.5.27",
      "model_name": "LinearScaleModel",
      "state": {
       "_model_module_version": "^0.5.27",
       "_view_module_version": "^0.5.27",
       "min": 0,
       "stabilized": false
      }
     },
     "3f3450a3d9e147ba9a5a3749adcfdf83": {
      "model_module": "bqplot",
      "model_module_version": "^0.5.27",
      "model_name": "FigureModel",
      "state": {
       "_model_module_version": "^0.5.27",
       "_view_module_version": "^0.5.27",
       "axes": [
        "IPY_MODEL_8c1763315d0b418aae86bd778f3d03e7",
        "IPY_MODEL_ec76643329044473bd340e4d5bc3dad6"
       ],
       "layout": "IPY_MODEL_94b86584f3fc475888018ef6b028bcde",
       "legend_location": "bottom",
       "marks": [
        "IPY_MODEL_a15bf557fe454296a66472c1929051f7",
        "IPY_MODEL_b4dfecf44a2c42448a933a79f10b1c82"
       ],
       "scale_x": "IPY_MODEL_0d259e4a4dcc40c1955ea47b23105fc0",
       "scale_y": "IPY_MODEL_929480e115364ac3831a7fe07df93572",
       "title": "accuracy"
      }
     },
     "44a19a86f1b74142948e57de6569bdc6": {
      "model_module": "bqplot",
      "model_module_version": "^0.5.27",
      "model_name": "OrdinalScaleModel",
      "state": {
       "_model_module_version": "^0.5.27",
       "_view_module_version": "^0.5.27"
      }
     },
     "44e44bcf0f7e4d37bd13f73f7bc54523": {
      "buffers": [
       {
        "data": "AAAAAAEAAAACAAAAAwAAAAQAAAAFAAAABgAAAAcAAAAIAAAACQAAAAoAAAALAAAADAAAAA0AAAAOAAAADwAAABAAAAARAAAAEgAAABMAAAAUAAAAFQAAABYAAAAXAAAAGAAAAA==",
        "encoding": "base64",
        "path": [
         "x",
         "value"
        ]
       },
       {
        "data": "AAAAIAce7z8AAAAg0sjvPwAAAEBg2+8/AAAAwJrm7z8AAACgx+rvPwAAAICk7u8/AAAAQBjx7z8AAAAgmfHvPwAAAGBm8u8/AAAAgH7z7z8AAABA2/PvPwAAAMAZ9u8/AAAAwFT17z8AAADghfXvPwAAAOAA9u8/AAAA4K737z8AAAAgzPbvPwAAACC69+8/AAAAIHr37z8AAABApPjvPwAAAEAX+O8/AAAAICX47z8AAABA2/nvPwAAAKCO+O8/AAAAQF/57z8=",
        "encoding": "base64",
        "path": [
         "y",
         "value"
        ]
       }
      ],
      "model_module": "bqplot",
      "model_module_version": "^0.5.27",
      "model_name": "LinesModel",
      "state": {
       "_model_module_version": "^0.5.27",
       "_view_module_version": "^0.5.27",
       "colors": [
        "red"
       ],
       "display_legend": true,
       "fill_colors": [],
       "labels": [
        "train"
       ],
       "scales": {
        "x": "IPY_MODEL_48c8bd054b994771b32793cfdc3933ab",
        "y": "IPY_MODEL_5cd788376ca3426683c4d1fd6ce83eb7"
       },
       "x": {
        "dtype": "int32",
        "shape": [
         25
        ],
        "type": null,
        "value": {}
       },
       "y": {
        "dtype": "float64",
        "shape": [
         25
        ],
        "type": null,
        "value": {}
       }
      }
     },
     "45370de4344c421b810ad3f62d8fb824": {
      "buffers": [
       {
        "data": "AAAAAAEAAAACAAAAAwAAAAQAAAAFAAAABgAAAAcAAAAIAAAACQAAAAoAAAALAAAADAAAAA0AAAAOAAAADwAAABAAAAARAAAAEgAAABMAAAAUAAAAFQAAABYAAAAXAAAAGAAAAA==",
        "encoding": "base64",
        "path": [
         "x",
         "value"
        ]
       },
       {
        "data": "AAAAABp26T8AAABAmhLtPwAAAIB5ou0/AAAAYPIL7j8AAACgjknuPwAAAAANe+4/AAAAQG2g7j8AAAAgeLDuPwAAAEBExO4/AAAAwOTX7j8AAAAA5N7uPwAAAAAC6+4/AAAAYPT27j8AAACA2gDvPwAAAMB2/u4/AAAA4IcP7z8AAABAYhDvPwAAAOBtGe8/AAAAgJcu7z8AAACgtyXvPwAAAIDPMO8/AAAAIHgw7z8AAACAPzXvPwAAACAgN+8/AAAA4GlD7z8=",
        "encoding": "base64",
        "path": [
         "y",
         "value"
        ]
       }
      ],
      "model_module": "bqplot",
      "model_module_version": "^0.5.27",
      "model_name": "LinesModel",
      "state": {
       "_model_module_version": "^0.5.27",
       "_view_module_version": "^0.5.27",
       "colors": [
        "red"
       ],
       "display_legend": true,
       "fill_colors": [],
       "labels": [
        "train"
       ],
       "scales": {
        "x": "IPY_MODEL_4cf2dd99a14248bf9027a6af84112b68",
        "y": "IPY_MODEL_7afc1b9b043f471f9b527fd153b39838"
       },
       "x": {
        "dtype": "int32",
        "shape": [
         25
        ],
        "type": null,
        "value": {}
       },
       "y": {
        "dtype": "float64",
        "shape": [
         25
        ],
        "type": null,
        "value": {}
       }
      }
     },
     "45c1d49ce5124aa696c3fdab81d2325f": {
      "model_module": "@jupyter-widgets/controls",
      "model_module_version": "1.5.0",
      "model_name": "GridBoxModel",
      "state": {
       "children": [
        "IPY_MODEL_1f22de677c4c47a9826efff7c71e0ba0",
        "IPY_MODEL_024ca61b1b8c4496865e5b4a409f5611"
       ],
       "layout": "IPY_MODEL_8babdc9412c842da87d3194738f5db7a"
      }
     },
     "4796a047af1b4b07a998acb33324eb32": {
      "buffers": [
       {
        "data": "",
        "encoding": "base64",
        "path": [
         "x",
         "value"
        ]
       },
       {
        "data": "",
        "encoding": "base64",
        "path": [
         "y",
         "value"
        ]
       }
      ],
      "model_module": "bqplot",
      "model_module_version": "^0.5.27",
      "model_name": "LinesModel",
      "state": {
       "_model_module_version": "^0.5.27",
       "_view_module_version": "^0.5.27",
       "colors": [
        "red"
       ],
       "display_legend": true,
       "fill_colors": [],
       "labels": [
        "loss"
       ],
       "scales": {
        "x": "IPY_MODEL_cfdbb9fd672f49d5bee1e86880957360",
        "y": "IPY_MODEL_91bd6dc3851943d6adb80ccb6aef0992"
       },
       "x": {
        "dtype": "float64",
        "shape": [
         0
        ],
        "type": null,
        "value": {}
       },
       "y": {
        "dtype": "float64",
        "shape": [
         0
        ],
        "type": null,
        "value": {}
       }
      }
     },
     "4867cb772562433c9ac3ea0951167625": {
      "buffers": [
       {
        "data": "AAAAAAEAAAACAAAAAwAAAAQAAAAFAAAABgAAAAcAAAAIAAAACQAAAAoAAAALAAAADAAAAA0AAAAOAAAADwAAABAAAAARAAAAEgAAABMAAAAUAAAAFQAAABYAAAAXAAAAGAAAAA==",
        "encoding": "base64",
        "path": [
         "x",
         "value"
        ]
       },
       {
        "data": "AAAAoDvq0j8AAAAArO3MPwAAAODQ1Mc/AAAAABz0wz8AAACgvxzBPwAAAGD2KL4/AAAAYHfcuz8AAABguK+5PwAAAKAFarg/AAAAIAvItj8AAAAAMxi2PwAAAEDL4rQ/AAAA4K9PtD8AAABgk/GzPwAAAOC0jbM/AAAAoIzNsj8AAACAV2ayPwAAAMA4LbI/AAAAIHEVsj8AAACgWqWxPwAAAAAMJrE/AAAAIBrLsD8AAABANsWwPwAAAGBtfLA/AAAAYHtMsD8=",
        "encoding": "base64",
        "path": [
         "y",
         "value"
        ]
       }
      ],
      "model_module": "bqplot",
      "model_module_version": "^0.5.27",
      "model_name": "LinesModel",
      "state": {
       "_model_module_version": "^0.5.27",
       "_view_module_version": "^0.5.27",
       "colors": [
        "green"
       ],
       "display_legend": true,
       "fill_colors": [],
       "labels": [
        "val"
       ],
       "scales": {
        "x": "IPY_MODEL_8f201f19f29445bdb2f990868838ccc2",
        "y": "IPY_MODEL_7e11e95827e14a61be9304713c0208d2"
       },
       "x": {
        "dtype": "int32",
        "shape": [
         25
        ],
        "type": null,
        "value": {}
       },
       "y": {
        "dtype": "float64",
        "shape": [
         25
        ],
        "type": null,
        "value": {}
       }
      }
     },
     "48c8bd054b994771b32793cfdc3933ab": {
      "model_module": "bqplot",
      "model_module_version": "^0.5.27",
      "model_name": "OrdinalScaleModel",
      "state": {
       "_model_module_version": "^0.5.27",
       "_view_module_version": "^0.5.27"
      }
     },
     "4b77064b7ddf4f659b22b54558648711": {
      "model_module": "@jupyter-widgets/base",
      "model_module_version": "1.2.0",
      "model_name": "LayoutModel",
      "state": {
       "grid_area": "left-sidebar"
      }
     },
     "4cf2dd99a14248bf9027a6af84112b68": {
      "model_module": "bqplot",
      "model_module_version": "^0.5.27",
      "model_name": "OrdinalScaleModel",
      "state": {
       "_model_module_version": "^0.5.27",
       "_view_module_version": "^0.5.27"
      }
     },
     "4e643f2711db48c7914871fbbdd1d1cb": {
      "model_module": "bqplot",
      "model_module_version": "^0.5.27",
      "model_name": "AxisModel",
      "state": {
       "_model_module_version": "^0.5.27",
       "_view_module_version": "^0.5.27",
       "label": "epoch",
       "scale": "IPY_MODEL_4cf2dd99a14248bf9027a6af84112b68",
       "side": "bottom",
       "tick_values": null
      }
     },
     "4e79f097462a4a9a89df5ef493206a5b": {
      "model_module": "bqplot",
      "model_module_version": "^0.5.27",
      "model_name": "LinearScaleModel",
      "state": {
       "_model_module_version": "^0.5.27",
       "_view_module_version": "^0.5.27",
       "max": 1,
       "min": 0,
       "stabilized": false
      }
     },
     "4f9c83160ed74c9bb58631ef322845cb": {
      "model_module": "bqplot",
      "model_module_version": "^0.5.27",
      "model_name": "LinearScaleModel",
      "state": {
       "_model_module_version": "^0.5.27",
       "_view_module_version": "^0.5.27",
       "allow_padding": false,
       "max": 1,
       "min": 0,
       "stabilized": false
      }
     },
     "512b52804f9f450aa928eb3af8eb05c9": {
      "model_module": "bqplot",
      "model_module_version": "^0.5.27",
      "model_name": "AxisModel",
      "state": {
       "_model_module_version": "^0.5.27",
       "_view_module_version": "^0.5.27",
       "label": "auc",
       "orientation": "vertical",
       "scale": "IPY_MODEL_11508ed3d1754f2ea855310d509ccd6c",
       "side": "left",
       "tick_values": null
      }
     },
     "5272cdbf1fc84f888b3744f319d21662": {
      "model_module": "bqplot",
      "model_module_version": "^0.5.27",
      "model_name": "AxisModel",
      "state": {
       "_model_module_version": "^0.5.27",
       "_view_module_version": "^0.5.27",
       "label": "accuracy",
       "orientation": "vertical",
       "scale": "IPY_MODEL_7afc1b9b043f471f9b527fd153b39838",
       "side": "left",
       "tick_values": null
      }
     },
     "54654bd010824a65b3db8907832e0ea2": {
      "model_module": "bqplot",
      "model_module_version": "^0.5.27",
      "model_name": "AxisModel",
      "state": {
       "_model_module_version": "^0.5.27",
       "_view_module_version": "^0.5.27",
       "label": "epoch",
       "scale": "IPY_MODEL_48c8bd054b994771b32793cfdc3933ab",
       "side": "bottom",
       "tick_values": null
      }
     },
     "55783837d2584ed391bd517a564f721c": {
      "buffers": [
       {
        "data": "AAAAAAEAAAACAAAAAwAAAAQAAAAFAAAABgAAAAcAAAAIAAAACQAAAAoAAAALAAAADAAAAA0AAAAOAAAADwAAABAAAAARAAAAEgAAABMAAAAUAAAAFQAAABYAAAAXAAAAGAAAAA==",
        "encoding": "base64",
        "path": [
         "x",
         "value"
        ]
       },
       {
        "data": "AAAA4LvJ7z8AAACAg9vvPwAAAOD25u8/AAAA4Hzs7z8AAAAghPDvPwAAAMBh8e8/AAAA4KDy7z8AAABgAPXvPwAAAECn9O8/AAAAAGf17z8AAABgmPbvPwAAAIBI9+8/AAAAwIf37z8AAAAA+vfvPwAAAADC9+8/AAAA4OT37z8AAADgUfjvPwAAAOBd+O8/AAAAIB347z8AAABgRPjvPwAAAEBO+O8/AAAAgFH47z8AAADAtvfvPwAAAEAy+e8/AAAAIOv47z8=",
        "encoding": "base64",
        "path": [
         "y",
         "value"
        ]
       }
      ],
      "model_module": "bqplot",
      "model_module_version": "^0.5.27",
      "model_name": "LinesModel",
      "state": {
       "_model_module_version": "^0.5.27",
       "_view_module_version": "^0.5.27",
       "colors": [
        "green"
       ],
       "display_legend": true,
       "fill_colors": [],
       "labels": [
        "val"
       ],
       "scales": {
        "x": "IPY_MODEL_48c8bd054b994771b32793cfdc3933ab",
        "y": "IPY_MODEL_5cd788376ca3426683c4d1fd6ce83eb7"
       },
       "x": {
        "dtype": "int32",
        "shape": [
         25
        ],
        "type": null,
        "value": {}
       },
       "y": {
        "dtype": "float64",
        "shape": [
         25
        ],
        "type": null,
        "value": {}
       }
      }
     },
     "57a18d875de347c3bbf532b3da1370ab": {
      "buffers": [
       {
        "data": "AAAAAAEAAAACAAAAAwAAAAQAAAAFAAAABgAAAAcAAAAIAAAACQAAAAoAAAALAAAADAAAAA0AAAAOAAAADwAAABAAAAARAAAAEgAAABMAAAAUAAAAFQAAABYAAAAXAAAAGAAAAA==",
        "encoding": "base64",
        "path": [
         "x",
         "value"
        ]
       },
       {
        "data": "AAAA4DwS7z8AAAAg/8HvPwAAAEAb0+8/AAAA4DTg7z8AAACgyebvPwAAAEBT6+8/AAAAwGvt7z8AAABgWfDvPwAAAGAS8u8/AAAAwKXx7z8AAADgA/TvPwAAAGCf8+8/AAAA4BP07z8AAACgIvXvPwAAAKBr9e8/AAAAYLn17z8AAAAALvfvPwAAAIDH9u8/AAAAIB/47z8AAAAgivbvPwAAAMDo9+8/AAAAIC347z8AAADgJPnvPwAAAODj+O8/AAAA4PH47z8=",
        "encoding": "base64",
        "path": [
         "y",
         "value"
        ]
       }
      ],
      "model_module": "bqplot",
      "model_module_version": "^0.5.27",
      "model_name": "LinesModel",
      "state": {
       "_model_module_version": "^0.5.27",
       "_view_module_version": "^0.5.27",
       "colors": [
        "red"
       ],
       "display_legend": true,
       "fill_colors": [],
       "labels": [
        "train"
       ],
       "scales": {
        "x": "IPY_MODEL_7f8aa1e4866240bb9da4336f58c0671f",
        "y": "IPY_MODEL_a369592ea38c429f9c72e72a21d4dcc1"
       },
       "x": {
        "dtype": "int32",
        "shape": [
         25
        ],
        "type": null,
        "value": {}
       },
       "y": {
        "dtype": "float64",
        "shape": [
         25
        ],
        "type": null,
        "value": {}
       }
      }
     },
     "5afd0d249a99452e9304207a825170e0": {
      "model_module": "bqplot",
      "model_module_version": "^0.5.27",
      "model_name": "AxisModel",
      "state": {
       "_model_module_version": "^0.5.27",
       "_view_module_version": "^0.5.27",
       "label": "loss",
       "orientation": "vertical",
       "scale": "IPY_MODEL_3ef4c92ab5d44b45abe9cd829d4b60c5",
       "side": "left",
       "tick_values": null
      }
     },
     "5b1e2744f21943d092ed1a47773b71c6": {
      "model_module": "@jupyter-widgets/base",
      "model_module_version": "1.2.0",
      "model_name": "LayoutModel",
      "state": {
       "grid_area": "left-sidebar"
      }
     },
     "5cd788376ca3426683c4d1fd6ce83eb7": {
      "model_module": "bqplot",
      "model_module_version": "^0.5.27",
      "model_name": "LinearScaleModel",
      "state": {
       "_model_module_version": "^0.5.27",
       "_view_module_version": "^0.5.27",
       "max": 1,
       "min": 0,
       "stabilized": false
      }
     },
     "5d084072c9db4c5cb0f2a06f6b096b94": {
      "model_module": "bqplot",
      "model_module_version": "^0.5.27",
      "model_name": "LinearScaleModel",
      "state": {
       "_model_module_version": "^0.5.27",
       "_view_module_version": "^0.5.27",
       "allow_padding": false,
       "max": 1,
       "min": 0,
       "stabilized": false
      }
     },
     "5d50ca24b884471ca098fcaf0d0a0890": {
      "model_module": "bqplot",
      "model_module_version": "^0.5.27",
      "model_name": "AxisModel",
      "state": {
       "_model_module_version": "^0.5.27",
       "_view_module_version": "^0.5.27",
       "label": "epoch",
       "scale": "IPY_MODEL_8f201f19f29445bdb2f990868838ccc2",
       "side": "bottom",
       "tick_values": null
      }
     },
     "5eabdbc51ab84ea7a88b0ae98bb71551": {
      "model_module": "bqplot",
      "model_module_version": "^0.5.27",
      "model_name": "OrdinalScaleModel",
      "state": {
       "_model_module_version": "^0.5.27",
       "_view_module_version": "^0.5.27"
      }
     },
     "6af5c0b9608e49c68623f3423b79d020": {
      "model_module": "@jupyter-widgets/base",
      "model_module_version": "1.2.0",
      "model_name": "LayoutModel",
      "state": {
       "grid_template_areas": "\"left-sidebar center center\"",
       "grid_template_columns": "1fr 1fr 0fr",
       "grid_template_rows": "3fr"
      }
     },
     "6cf2e9a9ce9b4f76aadfe13275c99394": {
      "buffers": [
       {
        "data": "AAAAAAEAAAACAAAAAwAAAAQAAAAFAAAABgAAAAcAAAAIAAAACQAAAAoAAAALAAAADAAAAA0AAAAOAAAADwAAABAAAAARAAAAEgAAABMAAAAUAAAAFQAAABYAAAAXAAAAGAAAAA==",
        "encoding": "base64",
        "path": [
         "x",
         "value"
        ]
       },
       {
        "data": "AAAAgNMo7z8AAADA9MPvPwAAAICO1u8/AAAAIEri7z8AAACgGOnvPwAAACAV7e8/AAAAIPbv7z8AAACA2/DvPwAAAEAQ8u8/AAAAoE3z7z8AAABAYvTvPwAAAODo9e8/AAAA4FL17z8AAADAYvbvPwAAAEDd9u8/AAAAYPb27z8AAACAX/fvPwAAAOAq9+8/AAAA4J737z8AAACgJvnvPwAAAOBE+e8/AAAAQL747z8AAACgy/jvPwAAAIAZ+e8/AAAAoJz57z8=",
        "encoding": "base64",
        "path": [
         "y",
         "value"
        ]
       }
      ],
      "model_module": "bqplot",
      "model_module_version": "^0.5.27",
      "model_name": "LinesModel",
      "state": {
       "_model_module_version": "^0.5.27",
       "_view_module_version": "^0.5.27",
       "colors": [
        "red"
       ],
       "display_legend": true,
       "fill_colors": [],
       "labels": [
        "train"
       ],
       "scales": {
        "x": "IPY_MODEL_befaf43b1a2e402bb1c249b5ba813d7a",
        "y": "IPY_MODEL_11508ed3d1754f2ea855310d509ccd6c"
       },
       "x": {
        "dtype": "int32",
        "shape": [
         25
        ],
        "type": null,
        "value": {}
       },
       "y": {
        "dtype": "float64",
        "shape": [
         25
        ],
        "type": null,
        "value": {}
       }
      }
     },
     "6d35b37e184b42889c63efd57faed8a8": {
      "model_module": "@jupyter-widgets/base",
      "model_module_version": "1.2.0",
      "model_name": "LayoutModel",
      "state": {
       "grid_template_areas": "\"left-sidebar center center\"",
       "grid_template_columns": "1fr 1fr 0fr",
       "grid_template_rows": "3fr"
      }
     },
     "6d55177ba22549b89de8e495a32b9cd9": {
      "model_module": "@jupyter-widgets/base",
      "model_module_version": "1.2.0",
      "model_name": "LayoutModel",
      "state": {}
     },
     "6d71eb5f39c84fdd97b0dc5d4dff6c8a": {
      "buffers": [
       {
        "data": "AAAAAAEAAAACAAAAAwAAAAQAAAAFAAAABgAAAAcAAAAIAAAACQAAAAoAAAALAAAADAAAAA0AAAAOAAAADwAAABAAAAARAAAAEgAAABMAAAAUAAAAFQAAABYAAAAXAAAAGAAAAA==",
        "encoding": "base64",
        "path": [
         "x",
         "value"
        ]
       },
       {
        "data": "AAAAIKnD7z8AAABgoNXvPwAAAADn4O8/AAAAAP3o7z8AAABg8+vvPwAAAOA47u8/AAAAAGHv7z8AAACgtvHvPwAAAMBM8u8/AAAA4A/z7z8AAACgDPTvPwAAAMBS9O8/AAAAAJX17z8AAACgDvbvPwAAAOC19e8/AAAA4PL27z8AAACAr/bvPwAAAIDZ9u8/AAAAwJv27z8AAADgpvfvPwAAAABP9+8/AAAAYF347z8AAACAePfvPwAAAKCd9+8/AAAAwJv47z8=",
        "encoding": "base64",
        "path": [
         "y",
         "value"
        ]
       }
      ],
      "model_module": "bqplot",
      "model_module_version": "^0.5.27",
      "model_name": "LinesModel",
      "state": {
       "_model_module_version": "^0.5.27",
       "_view_module_version": "^0.5.27",
       "colors": [
        "green"
       ],
       "display_legend": true,
       "fill_colors": [],
       "labels": [
        "val"
       ],
       "scales": {
        "x": "IPY_MODEL_7f8aa1e4866240bb9da4336f58c0671f",
        "y": "IPY_MODEL_a369592ea38c429f9c72e72a21d4dcc1"
       },
       "x": {
        "dtype": "int32",
        "shape": [
         25
        ],
        "type": null,
        "value": {}
       },
       "y": {
        "dtype": "float64",
        "shape": [
         25
        ],
        "type": null,
        "value": {}
       }
      }
     },
     "70b2cfd0740648eba3591752ebf879e5": {
      "model_module": "bqplot",
      "model_module_version": "^0.5.27",
      "model_name": "AxisModel",
      "state": {
       "_model_module_version": "^0.5.27",
       "_view_module_version": "^0.5.27",
       "label": "auc",
       "orientation": "vertical",
       "scale": "IPY_MODEL_5cd788376ca3426683c4d1fd6ce83eb7",
       "side": "left",
       "tick_values": null
      }
     },
     "755053fb1b3c46fbb86d5cbb32e7c305": {
      "model_module": "bqplot",
      "model_module_version": "^0.5.27",
      "model_name": "LinearScaleModel",
      "state": {
       "_model_module_version": "^0.5.27",
       "_view_module_version": "^0.5.27",
       "allow_padding": false,
       "max": 1,
       "min": 0,
       "stabilized": false
      }
     },
     "75be307970e4403396553b9e06389b4b": {
      "model_module": "bqplot",
      "model_module_version": "^0.5.27",
      "model_name": "AxisModel",
      "state": {
       "_model_module_version": "^0.5.27",
       "_view_module_version": "^0.5.27",
       "label": "training_accuracy",
       "orientation": "vertical",
       "scale": "IPY_MODEL_4e79f097462a4a9a89df5ef493206a5b",
       "side": "right",
       "tick_values": null
      }
     },
     "7a7d06f7759043a3956cc8803026d4df": {
      "model_module": "@jupyter-widgets/base",
      "model_module_version": "1.2.0",
      "model_name": "LayoutModel",
      "state": {
       "grid_area": "center"
      }
     },
     "7afc1b9b043f471f9b527fd153b39838": {
      "model_module": "bqplot",
      "model_module_version": "^0.5.27",
      "model_name": "LinearScaleModel",
      "state": {
       "_model_module_version": "^0.5.27",
       "_view_module_version": "^0.5.27",
       "max": 1,
       "min": 0,
       "stabilized": false
      }
     },
     "7b9fbd27c92f4a1a8ee408e5574a01a3": {
      "model_module": "@jupyter-widgets/base",
      "model_module_version": "1.2.0",
      "model_name": "LayoutModel",
      "state": {
       "grid_template_areas": "\"left-sidebar center center\"",
       "grid_template_columns": "1fr 1fr 0fr",
       "grid_template_rows": "3fr"
      }
     },
     "7c31877bde4c4f72bc63c39a4597133f": {
      "model_module": "bqplot",
      "model_module_version": "^0.5.27",
      "model_name": "AxisModel",
      "state": {
       "_model_module_version": "^0.5.27",
       "_view_module_version": "^0.5.27",
       "label": "batch",
       "scale": "IPY_MODEL_cfdbb9fd672f49d5bee1e86880957360",
       "side": "bottom",
       "tick_values": null
      }
     },
     "7c6f59167ca3487bb8d15c5279f23065": {
      "model_module": "@jupyter-widgets/base",
      "model_module_version": "1.2.0",
      "model_name": "LayoutModel",
      "state": {
       "grid_template_areas": "\"left-sidebar center center\"",
       "grid_template_columns": "1fr 1fr 0fr",
       "grid_template_rows": "3fr"
      }
     },
     "7d0bf8e32e7e4404b4042cff67bd5835": {
      "model_module": "bqplot",
      "model_module_version": "^0.5.27",
      "model_name": "LinearScaleModel",
      "state": {
       "_model_module_version": "^0.5.27",
       "_view_module_version": "^0.5.27",
       "allow_padding": false,
       "max": 1,
       "min": 0,
       "stabilized": false
      }
     },
     "7e11e95827e14a61be9304713c0208d2": {
      "model_module": "bqplot",
      "model_module_version": "^0.5.27",
      "model_name": "LinearScaleModel",
      "state": {
       "_model_module_version": "^0.5.27",
       "_view_module_version": "^0.5.27",
       "min": 0,
       "stabilized": false
      }
     },
     "7e49d86b4ddc4e62a0c922bbb0a33922": {
      "model_module": "bqplot",
      "model_module_version": "^0.5.27",
      "model_name": "AxisModel",
      "state": {
       "_model_module_version": "^0.5.27",
       "_view_module_version": "^0.5.27",
       "label": "loss",
       "orientation": "vertical",
       "scale": "IPY_MODEL_7e11e95827e14a61be9304713c0208d2",
       "side": "left",
       "tick_values": null
      }
     },
     "7f8aa1e4866240bb9da4336f58c0671f": {
      "model_module": "bqplot",
      "model_module_version": "^0.5.27",
      "model_name": "OrdinalScaleModel",
      "state": {
       "_model_module_version": "^0.5.27",
       "_view_module_version": "^0.5.27"
      }
     },
     "80a8cfb2c19c4b92b12b67ca5079725c": {
      "model_module": "bqplot",
      "model_module_version": "^0.5.27",
      "model_name": "FigureModel",
      "state": {
       "_model_module_version": "^0.5.27",
       "_view_module_version": "^0.5.27",
       "axes": [
        "IPY_MODEL_b119c237d3da413ba9ec07c9931c9ad2",
        "IPY_MODEL_d88cbf8ba2454d5991a0f7527da37c1d"
       ],
       "layout": "IPY_MODEL_91707ac2381142489d7a94627eab4684",
       "legend_location": "bottom",
       "marks": [
        "IPY_MODEL_12e38da0be2d46e7a3d4649b5c82ec17",
        "IPY_MODEL_a148b8812ec1451b962adf04008a83f0"
       ],
       "scale_x": "IPY_MODEL_e9524327e4f44cf2b6217112b41ffb01",
       "scale_y": "IPY_MODEL_18e57a89c9c5420387a3076a060ab1a4",
       "title": "Loss"
      }
     },
     "8249318ed62545acaf2c57ccaa2da4c3": {
      "model_module": "bqplot",
      "model_module_version": "^0.5.27",
      "model_name": "LinearScaleModel",
      "state": {
       "_model_module_version": "^0.5.27",
       "_view_module_version": "^0.5.27",
       "allow_padding": false,
       "max": 1,
       "min": 0,
       "stabilized": false
      }
     },
     "84d353e24bc84e1a924501cc20a2f44a": {
      "model_module": "bqplot",
      "model_module_version": "^0.5.27",
      "model_name": "LinearScaleModel",
      "state": {
       "_model_module_version": "^0.5.27",
       "_view_module_version": "^0.5.27",
       "allow_padding": false,
       "max": 1,
       "min": 0,
       "stabilized": false
      }
     },
     "85ac0910ff424f65b00e953c4b909b92": {
      "model_module": "@jupyter-widgets/base",
      "model_module_version": "1.2.0",
      "model_name": "LayoutModel",
      "state": {}
     },
     "8babdc9412c842da87d3194738f5db7a": {
      "model_module": "@jupyter-widgets/base",
      "model_module_version": "1.2.0",
      "model_name": "LayoutModel",
      "state": {
       "grid_template_areas": "\"left-sidebar center center\"",
       "grid_template_columns": "1fr 1fr 0fr",
       "grid_template_rows": "3fr"
      }
     },
     "8c097bb23f6e49879e785069c905e0f9": {
      "buffers": [
       {
        "data": "AAAAAAoAAAAUAAAAHgAAACgAAAAyAAAAPAAAAEYAAABQAAAAWgAAAA==",
        "encoding": "base64",
        "path": [
         "x",
         "value"
        ]
       },
       {
        "data": "AAAAQA34sj8AAACAdX+uPwAAAEAnbLA/AAAA4N5VsT8AAACARsmxPwAAAEB/ILI/AAAAoJIfsj8AAADA9zWyPwAAAAD0YbI/AAAAABp0sj8=",
        "encoding": "base64",
        "path": [
         "y",
         "value"
        ]
       }
      ],
      "model_module": "bqplot",
      "model_module_version": "^0.5.27",
      "model_name": "LinesModel",
      "state": {
       "_model_module_version": "^0.5.27",
       "_view_module_version": "^0.5.27",
       "colors": [
        "red"
       ],
       "display_legend": true,
       "fill_colors": [],
       "labels": [
        "loss"
       ],
       "scales": {
        "x": "IPY_MODEL_f6c401e17fd14417a6a241698f819d75",
        "y": "IPY_MODEL_8d448a8d1be34d149198247279db2c60"
       },
       "x": {
        "dtype": "int32",
        "shape": [
         10
        ],
        "type": null,
        "value": {}
       },
       "y": {
        "dtype": "float64",
        "shape": [
         10
        ],
        "type": null,
        "value": {}
       }
      }
     },
     "8c1763315d0b418aae86bd778f3d03e7": {
      "model_module": "bqplot",
      "model_module_version": "^0.5.27",
      "model_name": "AxisModel",
      "state": {
       "_model_module_version": "^0.5.27",
       "_view_module_version": "^0.5.27",
       "label": "epoch",
       "scale": "IPY_MODEL_a80712e12cff4392844fc2be770280c2",
       "side": "bottom",
       "tick_values": null
      }
     },
     "8cc856fe354c47e68f8ad715c37763a6": {
      "model_module": "bqplot",
      "model_module_version": "^0.5.27",
      "model_name": "LinearScaleModel",
      "state": {
       "_model_module_version": "^0.5.27",
       "_view_module_version": "^0.5.27",
       "allow_padding": false,
       "max": 1,
       "min": 0,
       "stabilized": false
      }
     },
     "8d14e81c7913493e8a5094fee0f87e1f": {
      "model_module": "bqplot",
      "model_module_version": "^0.5.27",
      "model_name": "AxisModel",
      "state": {
       "_model_module_version": "^0.5.27",
       "_view_module_version": "^0.5.27",
       "label": "epoch",
       "scale": "IPY_MODEL_ce242896c3b54613ab1f5709eea562e7",
       "side": "bottom",
       "tick_values": null
      }
     },
     "8d448a8d1be34d149198247279db2c60": {
      "model_module": "bqplot",
      "model_module_version": "^0.5.27",
      "model_name": "LinearScaleModel",
      "state": {
       "_model_module_version": "^0.5.27",
       "_view_module_version": "^0.5.27",
       "min": 0,
       "stabilized": false
      }
     },
     "8f201f19f29445bdb2f990868838ccc2": {
      "model_module": "bqplot",
      "model_module_version": "^0.5.27",
      "model_name": "OrdinalScaleModel",
      "state": {
       "_model_module_version": "^0.5.27",
       "_view_module_version": "^0.5.27"
      }
     },
     "8f7c1cf9ac7b466daf8b9eeaf33fcf5f": {
      "model_module": "@jupyter-widgets/base",
      "model_module_version": "1.2.0",
      "model_name": "LayoutModel",
      "state": {
       "grid_template_areas": "\"left-sidebar center center\"",
       "grid_template_columns": "1fr 1fr 0fr",
       "grid_template_rows": "3fr"
      }
     },
     "91707ac2381142489d7a94627eab4684": {
      "model_module": "@jupyter-widgets/base",
      "model_module_version": "1.2.0",
      "model_name": "LayoutModel",
      "state": {
       "grid_area": "center"
      }
     },
     "91bd6dc3851943d6adb80ccb6aef0992": {
      "model_module": "bqplot",
      "model_module_version": "^0.5.27",
      "model_name": "LinearScaleModel",
      "state": {
       "_model_module_version": "^0.5.27",
       "_view_module_version": "^0.5.27",
       "min": 0,
       "stabilized": false
      }
     },
     "922d97deeb8440429996ac3e7eafde50": {
      "model_module": "bqplot",
      "model_module_version": "^0.5.27",
      "model_name": "AxisModel",
      "state": {
       "_model_module_version": "^0.5.27",
       "_view_module_version": "^0.5.27",
       "label": "epoch",
       "scale": "IPY_MODEL_befaf43b1a2e402bb1c249b5ba813d7a",
       "side": "bottom",
       "tick_values": null
      }
     },
     "929480e115364ac3831a7fe07df93572": {
      "model_module": "bqplot",
      "model_module_version": "^0.5.27",
      "model_name": "LinearScaleModel",
      "state": {
       "_model_module_version": "^0.5.27",
       "_view_module_version": "^0.5.27",
       "allow_padding": false,
       "max": 1,
       "min": 0,
       "stabilized": false
      }
     },
     "94772b7983ac4c24b1dce7ebc25a29d6": {
      "model_module": "@jupyter-widgets/base",
      "model_module_version": "1.2.0",
      "model_name": "LayoutModel",
      "state": {
       "grid_area": "center"
      }
     },
     "94b86584f3fc475888018ef6b028bcde": {
      "model_module": "@jupyter-widgets/base",
      "model_module_version": "1.2.0",
      "model_name": "LayoutModel",
      "state": {
       "grid_area": "left-sidebar"
      }
     },
     "96ddeebc60f544859c95bfe118e61e50": {
      "buffers": [
       {
        "data": "",
        "encoding": "base64",
        "path": [
         "x",
         "value"
        ]
       },
       {
        "data": "",
        "encoding": "base64",
        "path": [
         "y",
         "value"
        ]
       }
      ],
      "model_module": "bqplot",
      "model_module_version": "^0.5.27",
      "model_name": "LinesModel",
      "state": {
       "_model_module_version": "^0.5.27",
       "_view_module_version": "^0.5.27",
       "colors": [
        "blue"
       ],
       "display_legend": true,
       "fill_colors": [],
       "labels": [
        "accuracy"
       ],
       "scales": {
        "x": "IPY_MODEL_cfdbb9fd672f49d5bee1e86880957360",
        "y": "IPY_MODEL_2ae77ddbc5cf4ca0ac16f06a6e699e32"
       },
       "x": {
        "dtype": "float64",
        "shape": [
         0
        ],
        "type": null,
        "value": {}
       },
       "y": {
        "dtype": "float64",
        "shape": [
         0
        ],
        "type": null,
        "value": {}
       }
      }
     },
     "981bc769859c4067940280176f6071f4": {
      "buffers": [
       {
        "data": "AAAAAAEAAAACAAAAAwAAAAQAAAAFAAAABgAAAAcAAAAIAAAACQAAAAoAAAALAAAADAAAAA0AAAAOAAAADwAAABAAAAARAAAAEgAAABMAAAAUAAAAFQAAABYAAAAXAAAAGAAAAA==",
        "encoding": "base64",
        "path": [
         "x",
         "value"
        ]
       },
       {
        "data": "AAAAgPiM6T8AAACg7TztPwAAACCU0e0/AAAAIK5H7j8AAACAd3fuPwAAAKBUnO4/AAAAgK+57j8AAACAs8/uPwAAAAAP5u4/AAAAQMPu7j8AAAAAGvbuPwAAAOC0Ae8/AAAAwAQP7z8AAACgYRfvPwAAAIAWGe8/AAAAgFsW7z8AAABA0CnvPwAAACC9Le8/AAAAwGUt7z8AAABgLDnvPwAAAGDnO+8/AAAA4AY67z8AAACgY0LvPwAAAKCOSe8/AAAAoENL7z8=",
        "encoding": "base64",
        "path": [
         "y",
         "value"
        ]
       }
      ],
      "model_module": "bqplot",
      "model_module_version": "^0.5.27",
      "model_name": "LinesModel",
      "state": {
       "_model_module_version": "^0.5.27",
       "_view_module_version": "^0.5.27",
       "colors": [
        "red"
       ],
       "display_legend": true,
       "fill_colors": [],
       "labels": [
        "train"
       ],
       "scales": {
        "x": "IPY_MODEL_ce242896c3b54613ab1f5709eea562e7",
        "y": "IPY_MODEL_c3378accaff942e3b7a2020b499356bf"
       },
       "x": {
        "dtype": "int32",
        "shape": [
         25
        ],
        "type": null,
        "value": {}
       },
       "y": {
        "dtype": "float64",
        "shape": [
         25
        ],
        "type": null,
        "value": {}
       }
      }
     },
     "986916045bcd4a978f7a0759f05dc20c": {
      "model_module": "bqplot",
      "model_module_version": "^0.5.27",
      "model_name": "FigureModel",
      "state": {
       "_model_module_version": "^0.5.27",
       "_view_module_version": "^0.5.27",
       "axes": [
        "IPY_MODEL_b3567cbbb46b4464944479bf8e8ab0c4",
        "IPY_MODEL_182b871c054f4a62bf3a066bb463b0a3"
       ],
       "layout": "IPY_MODEL_94772b7983ac4c24b1dce7ebc25a29d6",
       "legend_location": "bottom",
       "marks": [
        "IPY_MODEL_57a18d875de347c3bbf532b3da1370ab",
        "IPY_MODEL_6d71eb5f39c84fdd97b0dc5d4dff6c8a"
       ],
       "scale_x": "IPY_MODEL_154caa8ca8fc4aefb2153e6925e09fef",
       "scale_y": "IPY_MODEL_15477c80e27a490995b4ad936b20d15c",
       "title": "auc"
      }
     },
     "98babcdd593344a6b9ea18828c5dadbd": {
      "model_module": "bqplot",
      "model_module_version": "^0.5.27",
      "model_name": "AxisModel",
      "state": {
       "_model_module_version": "^0.5.27",
       "_view_module_version": "^0.5.27",
       "label": "accuracy",
       "orientation": "vertical",
       "scale": "IPY_MODEL_c3378accaff942e3b7a2020b499356bf",
       "side": "left",
       "tick_values": null
      }
     },
     "9bd664b512144541988a27d0f176b652": {
      "model_module": "bqplot",
      "model_module_version": "^0.5.27",
      "model_name": "LinearScaleModel",
      "state": {
       "_model_module_version": "^0.5.27",
       "_view_module_version": "^0.5.27",
       "allow_padding": false,
       "max": 1,
       "min": 0,
       "stabilized": false
      }
     },
     "9fc39efcdf2d46ed902ac04aab05d7d9": {
      "model_module": "@jupyter-widgets/base",
      "model_module_version": "1.2.0",
      "model_name": "LayoutModel",
      "state": {
       "grid_area": "left-sidebar"
      }
     },
     "a0af4628ea354fcbbd2f794867dcd36f": {
      "buffers": [
       {
        "data": "AAAAAAEAAAACAAAAAwAAAAQAAAAFAAAABgAAAAcAAAAIAAAACQAAAAoAAAALAAAADAAAAA0AAAAOAAAADwAAABAAAAARAAAAEgAAABMAAAAUAAAAFQAAABYAAAAXAAAAGAAAAA==",
        "encoding": "base64",
        "path": [
         "x",
         "value"
        ]
       },
       {
        "data": "AAAAAClc7T8AAADgvxHuPwAAAEB8hu4/AAAAAGPJ7j8AAABAYOXuPwAAAKCOCe8/AAAAYB0T7z8AAAAgeDDvPwAAAMCwK+8/AAAAIM4+7z8AAABguknvPwAAAGD/Ru8/AAAAwIFO7z8AAACgplTvPwAAAGAQWO8/AAAA4G1Z7z8AAACgHFrvPwAAAEB6W+8/AAAAwJJf7z8AAADgTWLvPwAAACBaZO8/AAAAQPBg7z8AAAAAf2rvPwAAAGBmZu8/AAAAQIts7z8=",
        "encoding": "base64",
        "path": [
         "y",
         "value"
        ]
       }
      ],
      "model_module": "bqplot",
      "model_module_version": "^0.5.27",
      "model_name": "LinesModel",
      "state": {
       "_model_module_version": "^0.5.27",
       "_view_module_version": "^0.5.27",
       "colors": [
        "green"
       ],
       "display_legend": true,
       "fill_colors": [],
       "labels": [
        "val"
       ],
       "scales": {
        "x": "IPY_MODEL_ce242896c3b54613ab1f5709eea562e7",
        "y": "IPY_MODEL_c3378accaff942e3b7a2020b499356bf"
       },
       "x": {
        "dtype": "int32",
        "shape": [
         25
        ],
        "type": null,
        "value": {}
       },
       "y": {
        "dtype": "float64",
        "shape": [
         25
        ],
        "type": null,
        "value": {}
       }
      }
     },
     "a148b8812ec1451b962adf04008a83f0": {
      "buffers": [
       {
        "data": "AAAAAAEAAAACAAAAAwAAAAQAAAAFAAAABgAAAAcAAAAIAAAACQAAAAoAAAALAAAADAAAAA0AAAAOAAAADwAAABAAAAARAAAAEgAAABMAAAAUAAAAFQAAABYAAAAXAAAAGAAAAA==",
        "encoding": "base64",
        "path": [
         "x",
         "value"
        ]
       },
       {
        "data": "AAAAYICF0z8AAABgYxrOPwAAAOD1dcg/AAAAAJudxD8AAADgCDvCPwAAAIDUGcA/AAAAIK8Zvj8AAABglpK7PwAAAICf87k/AAAAAO7juD8AAACgxrC3PwAAAODIyLY/AAAA4PoHtj8AAACgQ0+1PwAAAEB3irQ/AAAAwPG4sz8AAADgQYqzPwAAAACPDbM/AAAAIEewsj8AAAAg1VyyPwAAACCQS7I/AAAAoM3xsT8AAABgYYOxPwAAAGBcP7E/AAAA4PVAsT8=",
        "encoding": "base64",
        "path": [
         "y",
         "value"
        ]
       }
      ],
      "model_module": "bqplot",
      "model_module_version": "^0.5.27",
      "model_name": "LinesModel",
      "state": {
       "_model_module_version": "^0.5.27",
       "_view_module_version": "^0.5.27",
       "colors": [
        "green"
       ],
       "display_legend": true,
       "fill_colors": [],
       "labels": [
        "val"
       ],
       "scales": {
        "x": "IPY_MODEL_2f90e6dc50a240ad84df9d7dd2043dfe",
        "y": "IPY_MODEL_35af2068f8284cbca0fd86a9704da401"
       },
       "x": {
        "dtype": "int32",
        "shape": [
         25
        ],
        "type": null,
        "value": {}
       },
       "y": {
        "dtype": "float64",
        "shape": [
         25
        ],
        "type": null,
        "value": {}
       }
      }
     },
     "a15bf557fe454296a66472c1929051f7": {
      "buffers": [
       {
        "data": "AAAAAAEAAAACAAAAAwAAAAQAAAAFAAAABgAAAAcAAAAIAAAACQAAAAoAAAALAAAADAAAAA0AAAAOAAAADwAAABAAAAARAAAAEgAAABMAAAAUAAAAFQAAABYAAAAXAAAAGAAAAA==",
        "encoding": "base64",
        "path": [
         "x",
         "value"
        ]
       },
       {
        "data": "AAAAIFi56T8AAADAnxrtPwAAAKANtO0/AAAAQCgj7j8AAAAgImLuPwAAAKAple4/AAAAwJC07j8AAAAA083uPwAAAID24e4/AAAAYA7t7j8AAAAglvzuPwAAAIDaAO8/AAAAoDYQ7z8AAABgHRPvPwAAAAB0Gu8/AAAAQKUi7z8AAAAARyjvPwAAAMBYMu8/AAAAIOg07z8AAAAg6DTvPwAAAODON+8/AAAAgCU/7z8AAACAlUPvPwAAAAArR+8/AAAAwNlH7z8=",
        "encoding": "base64",
        "path": [
         "y",
         "value"
        ]
       }
      ],
      "model_module": "bqplot",
      "model_module_version": "^0.5.27",
      "model_name": "LinesModel",
      "state": {
       "_model_module_version": "^0.5.27",
       "_view_module_version": "^0.5.27",
       "colors": [
        "red"
       ],
       "display_legend": true,
       "fill_colors": [],
       "labels": [
        "train"
       ],
       "scales": {
        "x": "IPY_MODEL_a80712e12cff4392844fc2be770280c2",
        "y": "IPY_MODEL_a3085b6f58b54fbabcc4b477e0fbd41d"
       },
       "x": {
        "dtype": "int32",
        "shape": [
         25
        ],
        "type": null,
        "value": {}
       },
       "y": {
        "dtype": "float64",
        "shape": [
         25
        ],
        "type": null,
        "value": {}
       }
      }
     },
     "a258d793ae5f41c1af79c9fe6ecd53d3": {
      "model_module": "bqplot",
      "model_module_version": "^0.5.27",
      "model_name": "AxisModel",
      "state": {
       "_model_module_version": "^0.5.27",
       "_view_module_version": "^0.5.27",
       "grid_lines": "dashed",
       "label": "training_loss",
       "orientation": "vertical",
       "scale": "IPY_MODEL_8d448a8d1be34d149198247279db2c60",
       "side": "left",
       "tick_values": null
      }
     },
     "a3085b6f58b54fbabcc4b477e0fbd41d": {
      "model_module": "bqplot",
      "model_module_version": "^0.5.27",
      "model_name": "LinearScaleModel",
      "state": {
       "_model_module_version": "^0.5.27",
       "_view_module_version": "^0.5.27",
       "max": 1,
       "min": 0,
       "stabilized": false
      }
     },
     "a369592ea38c429f9c72e72a21d4dcc1": {
      "model_module": "bqplot",
      "model_module_version": "^0.5.27",
      "model_name": "LinearScaleModel",
      "state": {
       "_model_module_version": "^0.5.27",
       "_view_module_version": "^0.5.27",
       "max": 1,
       "min": 0,
       "stabilized": false
      }
     },
     "a385575505a04e3b986a2671ea4572c8": {
      "model_module": "@jupyter-widgets/controls",
      "model_module_version": "1.5.0",
      "model_name": "HBoxModel",
      "state": {
       "children": [
        "IPY_MODEL_ac664a4993514046908882f62a9f8a65"
       ],
       "layout": "IPY_MODEL_29d969efc34845b3860f8f35c33c8885"
      }
     },
     "a80712e12cff4392844fc2be770280c2": {
      "model_module": "bqplot",
      "model_module_version": "^0.5.27",
      "model_name": "OrdinalScaleModel",
      "state": {
       "_model_module_version": "^0.5.27",
       "_view_module_version": "^0.5.27"
      }
     },
     "a8b5a6fd44744f0c91715f3220eb622d": {
      "model_module": "@jupyter-widgets/base",
      "model_module_version": "1.2.0",
      "model_name": "LayoutModel",
      "state": {
       "align_items": "center",
       "display": "flex",
       "flex_flow": "column"
      }
     },
     "ac664a4993514046908882f62a9f8a65": {
      "model_module": "@jupyter-widgets/output",
      "model_module_version": "1.0.0",
      "model_name": "OutputModel",
      "state": {
       "layout": "IPY_MODEL_6d55177ba22549b89de8e495a32b9cd9",
       "outputs": [
        {
         "data": {
          "text/html": "<style  type=\"text/css\" >\n    #T_cd76eb9c_be9b_11eb_b4b8_a483e719d149row0_col0 {\n            background-color:  #e67575;\n        }    #T_cd76eb9c_be9b_11eb_b4b8_a483e719d149row0_col1 {\n            background-color:  #e67575;\n        }    #T_cd76eb9c_be9b_11eb_b4b8_a483e719d149row0_col2 {\n            background-color:  #5fba7d;\n        }    #T_cd76eb9c_be9b_11eb_b4b8_a483e719d149row0_col3 {\n            background-color:  #5fba7d;\n        }    #T_cd76eb9c_be9b_11eb_b4b8_a483e719d149row0_col4 {\n            background-color:  #5fba7d;\n        }    #T_cd76eb9c_be9b_11eb_b4b8_a483e719d149row0_col5 {\n            background-color:  #5fba7d;\n        }    #T_cd76eb9c_be9b_11eb_b4b8_a483e719d149row22_col3 {\n            background-color:  #e67575;\n        }    #T_cd76eb9c_be9b_11eb_b4b8_a483e719d149row23_col5 {\n            background-color:  #e67575;\n        }    #T_cd76eb9c_be9b_11eb_b4b8_a483e719d149row24_col0 {\n            background-color:  #5fba7d;\n        }    #T_cd76eb9c_be9b_11eb_b4b8_a483e719d149row24_col1 {\n            background-color:  #5fba7d;\n        }    #T_cd76eb9c_be9b_11eb_b4b8_a483e719d149row24_col2 {\n            background-color:  #e67575;\n        }    #T_cd76eb9c_be9b_11eb_b4b8_a483e719d149row24_col4 {\n            background-color:  #e67575;\n        }</style><table id=\"T_cd76eb9c_be9b_11eb_b4b8_a483e719d149\" ><thead>    <tr>        <th class=\"blank level0\" ></th>        <th class=\"col_heading level0 col0\" >loss</th>        <th class=\"col_heading level0 col1\" >val_loss</th>        <th class=\"col_heading level0 col2\" >accuracy</th>        <th class=\"col_heading level0 col3\" >auc</th>        <th class=\"col_heading level0 col4\" >val_accuracy</th>        <th class=\"col_heading level0 col5\" >val_auc</th>    </tr></thead><tbody>\n                <tr>\n                        <th id=\"T_cd76eb9c_be9b_11eb_b4b8_a483e719d149level0_row0\" class=\"row_heading level0 row0\" >0</th>\n                        <td id=\"T_cd76eb9c_be9b_11eb_b4b8_a483e719d149row0_col0\" class=\"data row0 col0\" >0.771256</td>\n                        <td id=\"T_cd76eb9c_be9b_11eb_b4b8_a483e719d149row0_col1\" class=\"data row0 col1\" >0.295803</td>\n                        <td id=\"T_cd76eb9c_be9b_11eb_b4b8_a483e719d149row0_col2\" class=\"data row0 col2\" >0.798458</td>\n                        <td id=\"T_cd76eb9c_be9b_11eb_b4b8_a483e719d149row0_col3\" class=\"data row0 col3\" >0.972416</td>\n                        <td id=\"T_cd76eb9c_be9b_11eb_b4b8_a483e719d149row0_col4\" class=\"data row0 col4\" >0.9175</td>\n                        <td id=\"T_cd76eb9c_be9b_11eb_b4b8_a483e719d149row0_col5\" class=\"data row0 col5\" >0.993376</td>\n            </tr>\n            <tr>\n                        <th id=\"T_cd76eb9c_be9b_11eb_b4b8_a483e719d149level0_row1\" class=\"row_heading level0 row1\" >1</th>\n                        <td id=\"T_cd76eb9c_be9b_11eb_b4b8_a483e719d149row1_col0\" class=\"data row1 col0\" >0.296211</td>\n                        <td id=\"T_cd76eb9c_be9b_11eb_b4b8_a483e719d149row1_col1\" class=\"data row1 col1\" >0.21647</td>\n                        <td id=\"T_cd76eb9c_be9b_11eb_b4b8_a483e719d149row1_col2\" class=\"data row1 col2\" >0.913688</td>\n                        <td id=\"T_cd76eb9c_be9b_11eb_b4b8_a483e719d149row1_col3\" class=\"data row1 col3\" >0.993264</td>\n                        <td id=\"T_cd76eb9c_be9b_11eb_b4b8_a483e719d149row1_col4\" class=\"data row1 col4\" >0.939667</td>\n                        <td id=\"T_cd76eb9c_be9b_11eb_b4b8_a483e719d149row1_col5\" class=\"data row1 col5\" >0.995546</td>\n            </tr>\n            <tr>\n                        <th id=\"T_cd76eb9c_be9b_11eb_b4b8_a483e719d149level0_row2\" class=\"row_heading level0 row2\" >2</th>\n                        <td id=\"T_cd76eb9c_be9b_11eb_b4b8_a483e719d149row2_col0\" class=\"data row2 col0\" >0.229743</td>\n                        <td id=\"T_cd76eb9c_be9b_11eb_b4b8_a483e719d149row2_col1\" class=\"data row2 col1\" >0.171662</td>\n                        <td id=\"T_cd76eb9c_be9b_11eb_b4b8_a483e719d149row2_col2\" class=\"data row2 col2\" >0.931833</td>\n                        <td id=\"T_cd76eb9c_be9b_11eb_b4b8_a483e719d149row2_col3\" class=\"data row2 col3\" >0.995529</td>\n                        <td id=\"T_cd76eb9c_be9b_11eb_b4b8_a483e719d149row2_col4\" class=\"data row2 col4\" >0.953917</td>\n                        <td id=\"T_cd76eb9c_be9b_11eb_b4b8_a483e719d149row2_col5\" class=\"data row2 col5\" >0.996944</td>\n            </tr>\n            <tr>\n                        <th id=\"T_cd76eb9c_be9b_11eb_b4b8_a483e719d149level0_row3\" class=\"row_heading level0 row3\" >3</th>\n                        <td id=\"T_cd76eb9c_be9b_11eb_b4b8_a483e719d149row3_col0\" class=\"data row3 col0\" >0.185686</td>\n                        <td id=\"T_cd76eb9c_be9b_11eb_b4b8_a483e719d149row3_col1\" class=\"data row3 col1\" >0.142362</td>\n                        <td id=\"T_cd76eb9c_be9b_11eb_b4b8_a483e719d149row3_col2\" class=\"data row3 col2\" >0.94625</td>\n                        <td id=\"T_cd76eb9c_be9b_11eb_b4b8_a483e719d149row3_col3\" class=\"data row3 col3\" >0.9969</td>\n                        <td id=\"T_cd76eb9c_be9b_11eb_b4b8_a483e719d149row3_col4\" class=\"data row3 col4\" >0.962083</td>\n                        <td id=\"T_cd76eb9c_be9b_11eb_b4b8_a483e719d149row3_col5\" class=\"data row3 col5\" >0.997618</td>\n            </tr>\n            <tr>\n                        <th id=\"T_cd76eb9c_be9b_11eb_b4b8_a483e719d149level0_row4\" class=\"row_heading level0 row4\" >4</th>\n                        <td id=\"T_cd76eb9c_be9b_11eb_b4b8_a483e719d149row4_col0\" class=\"data row4 col0\" >0.163228</td>\n                        <td id=\"T_cd76eb9c_be9b_11eb_b4b8_a483e719d149row4_col1\" class=\"data row4 col1\" >0.126512</td>\n                        <td id=\"T_cd76eb9c_be9b_11eb_b4b8_a483e719d149row4_col2\" class=\"data row4 col2\" >0.952083</td>\n                        <td id=\"T_cd76eb9c_be9b_11eb_b4b8_a483e719d149row4_col3\" class=\"data row4 col3\" >0.99741</td>\n                        <td id=\"T_cd76eb9c_be9b_11eb_b4b8_a483e719d149row4_col4\" class=\"data row4 col4\" >0.9655</td>\n                        <td id=\"T_cd76eb9c_be9b_11eb_b4b8_a483e719d149row4_col5\" class=\"data row4 col5\" >0.99811</td>\n            </tr>\n            <tr>\n                        <th id=\"T_cd76eb9c_be9b_11eb_b4b8_a483e719d149level0_row5\" class=\"row_heading level0 row5\" >5</th>\n                        <td id=\"T_cd76eb9c_be9b_11eb_b4b8_a483e719d149row5_col0\" class=\"data row5 col0\" >0.144771</td>\n                        <td id=\"T_cd76eb9c_be9b_11eb_b4b8_a483e719d149row5_col1\" class=\"data row5 col1\" >0.11255</td>\n                        <td id=\"T_cd76eb9c_be9b_11eb_b4b8_a483e719d149row5_col2\" class=\"data row5 col2\" >0.956583</td>\n                        <td id=\"T_cd76eb9c_be9b_11eb_b4b8_a483e719d149row5_col3\" class=\"data row5 col3\" >0.997881</td>\n                        <td id=\"T_cd76eb9c_be9b_11eb_b4b8_a483e719d149row5_col4\" class=\"data row5 col4\" >0.969917</td>\n                        <td id=\"T_cd76eb9c_be9b_11eb_b4b8_a483e719d149row5_col5\" class=\"data row5 col5\" >0.998216</td>\n            </tr>\n            <tr>\n                        <th id=\"T_cd76eb9c_be9b_11eb_b4b8_a483e719d149level0_row6\" class=\"row_heading level0 row6\" >6</th>\n                        <td id=\"T_cd76eb9c_be9b_11eb_b4b8_a483e719d149row6_col0\" class=\"data row6 col0\" >0.132803</td>\n                        <td id=\"T_cd76eb9c_be9b_11eb_b4b8_a483e719d149row6_col1\" class=\"data row6 col1\" >0.105691</td>\n                        <td id=\"T_cd76eb9c_be9b_11eb_b4b8_a483e719d149row6_col2\" class=\"data row6 col2\" >0.960167</td>\n                        <td id=\"T_cd76eb9c_be9b_11eb_b4b8_a483e719d149row6_col3\" class=\"data row6 col3\" >0.998181</td>\n                        <td id=\"T_cd76eb9c_be9b_11eb_b4b8_a483e719d149row6_col4\" class=\"data row6 col4\" >0.971083</td>\n                        <td id=\"T_cd76eb9c_be9b_11eb_b4b8_a483e719d149row6_col5\" class=\"data row6 col5\" >0.998368</td>\n            </tr>\n            <tr>\n                        <th id=\"T_cd76eb9c_be9b_11eb_b4b8_a483e719d149level0_row7\" class=\"row_heading level0 row7\" >7</th>\n                        <td id=\"T_cd76eb9c_be9b_11eb_b4b8_a483e719d149row7_col0\" class=\"data row7 col0\" >0.125199</td>\n                        <td id=\"T_cd76eb9c_be9b_11eb_b4b8_a483e719d149row7_col1\" class=\"data row7 col1\" >0.0967812</td>\n                        <td id=\"T_cd76eb9c_be9b_11eb_b4b8_a483e719d149row7_col2\" class=\"data row7 col2\" >0.962854</td>\n                        <td id=\"T_cd76eb9c_be9b_11eb_b4b8_a483e719d149row7_col3\" class=\"data row7 col3\" >0.998242</td>\n                        <td id=\"T_cd76eb9c_be9b_11eb_b4b8_a483e719d149row7_col4\" class=\"data row7 col4\" >0.974667</td>\n                        <td id=\"T_cd76eb9c_be9b_11eb_b4b8_a483e719d149row7_col5\" class=\"data row7 col5\" >0.998657</td>\n            </tr>\n            <tr>\n                        <th id=\"T_cd76eb9c_be9b_11eb_b4b8_a483e719d149level0_row8\" class=\"row_heading level0 row8\" >8</th>\n                        <td id=\"T_cd76eb9c_be9b_11eb_b4b8_a483e719d149row8_col0\" class=\"data row8 col0\" >0.116571</td>\n                        <td id=\"T_cd76eb9c_be9b_11eb_b4b8_a483e719d149row8_col1\" class=\"data row8 col1\" >0.0945011</td>\n                        <td id=\"T_cd76eb9c_be9b_11eb_b4b8_a483e719d149row8_col2\" class=\"data row8 col2\" >0.965583</td>\n                        <td id=\"T_cd76eb9c_be9b_11eb_b4b8_a483e719d149row8_col3\" class=\"data row8 col3\" >0.99834</td>\n                        <td id=\"T_cd76eb9c_be9b_11eb_b4b8_a483e719d149row8_col4\" class=\"data row8 col4\" >0.974083</td>\n                        <td id=\"T_cd76eb9c_be9b_11eb_b4b8_a483e719d149row8_col5\" class=\"data row8 col5\" >0.998615</td>\n            </tr>\n            <tr>\n                        <th id=\"T_cd76eb9c_be9b_11eb_b4b8_a483e719d149level0_row9\" class=\"row_heading level0 row9\" >9</th>\n                        <td id=\"T_cd76eb9c_be9b_11eb_b4b8_a483e719d149row9_col0\" class=\"data row9 col0\" >0.111985</td>\n                        <td id=\"T_cd76eb9c_be9b_11eb_b4b8_a483e719d149row9_col1\" class=\"data row9 col1\" >0.0885295</td>\n                        <td id=\"T_cd76eb9c_be9b_11eb_b4b8_a483e719d149row9_col2\" class=\"data row9 col2\" >0.966646</td>\n                        <td id=\"T_cd76eb9c_be9b_11eb_b4b8_a483e719d149row9_col3\" class=\"data row9 col3\" >0.998473</td>\n                        <td id=\"T_cd76eb9c_be9b_11eb_b4b8_a483e719d149row9_col4\" class=\"data row9 col4\" >0.976417</td>\n                        <td id=\"T_cd76eb9c_be9b_11eb_b4b8_a483e719d149row9_col5\" class=\"data row9 col5\" >0.998706</td>\n            </tr>\n            <tr>\n                        <th id=\"T_cd76eb9c_be9b_11eb_b4b8_a483e719d149level0_row10\" class=\"row_heading level0 row10\" >10</th>\n                        <td id=\"T_cd76eb9c_be9b_11eb_b4b8_a483e719d149row10_col0\" class=\"data row10 col0\" >0.106476</td>\n                        <td id=\"T_cd76eb9c_be9b_11eb_b4b8_a483e719d149row10_col1\" class=\"data row10 col1\" >0.0851103</td>\n                        <td id=\"T_cd76eb9c_be9b_11eb_b4b8_a483e719d149row10_col2\" class=\"data row10 col2\" >0.967542</td>\n                        <td id=\"T_cd76eb9c_be9b_11eb_b4b8_a483e719d149row10_col3\" class=\"data row10 col3\" >0.998518</td>\n                        <td id=\"T_cd76eb9c_be9b_11eb_b4b8_a483e719d149row10_col4\" class=\"data row10 col4\" >0.97775</td>\n                        <td id=\"T_cd76eb9c_be9b_11eb_b4b8_a483e719d149row10_col5\" class=\"data row10 col5\" >0.998852</td>\n            </tr>\n            <tr>\n                        <th id=\"T_cd76eb9c_be9b_11eb_b4b8_a483e719d149level0_row11\" class=\"row_heading level0 row11\" >11</th>\n                        <td id=\"T_cd76eb9c_be9b_11eb_b4b8_a483e719d149row11_col0\" class=\"data row11 col0\" >0.101564</td>\n                        <td id=\"T_cd76eb9c_be9b_11eb_b4b8_a483e719d149row11_col1\" class=\"data row11 col1\" >0.0824683</td>\n                        <td id=\"T_cd76eb9c_be9b_11eb_b4b8_a483e719d149row11_col2\" class=\"data row11 col2\" >0.968958</td>\n                        <td id=\"T_cd76eb9c_be9b_11eb_b4b8_a483e719d149row11_col3\" class=\"data row11 col3\" >0.998792</td>\n                        <td id=\"T_cd76eb9c_be9b_11eb_b4b8_a483e719d149row11_col4\" class=\"data row11 col4\" >0.977417</td>\n                        <td id=\"T_cd76eb9c_be9b_11eb_b4b8_a483e719d149row11_col5\" class=\"data row11 col5\" >0.998936</td>\n            </tr>\n            <tr>\n                        <th id=\"T_cd76eb9c_be9b_11eb_b4b8_a483e719d149level0_row12\" class=\"row_heading level0 row12\" >12</th>\n                        <td id=\"T_cd76eb9c_be9b_11eb_b4b8_a483e719d149row12_col0\" class=\"data row12 col0\" >0.0972038</td>\n                        <td id=\"T_cd76eb9c_be9b_11eb_b4b8_a483e719d149row12_col1\" class=\"data row12 col1\" >0.0792428</td>\n                        <td id=\"T_cd76eb9c_be9b_11eb_b4b8_a483e719d149row12_col2\" class=\"data row12 col2\" >0.970583</td>\n                        <td id=\"T_cd76eb9c_be9b_11eb_b4b8_a483e719d149row12_col3\" class=\"data row12 col3\" >0.998698</td>\n                        <td id=\"T_cd76eb9c_be9b_11eb_b4b8_a483e719d149row12_col4\" class=\"data row12 col4\" >0.978333</td>\n                        <td id=\"T_cd76eb9c_be9b_11eb_b4b8_a483e719d149row12_col5\" class=\"data row12 col5\" >0.998966</td>\n            </tr>\n            <tr>\n                        <th id=\"T_cd76eb9c_be9b_11eb_b4b8_a483e719d149level0_row13\" class=\"row_heading level0 row13\" >13</th>\n                        <td id=\"T_cd76eb9c_be9b_11eb_b4b8_a483e719d149row13_col0\" class=\"data row13 col0\" >0.0951377</td>\n                        <td id=\"T_cd76eb9c_be9b_11eb_b4b8_a483e719d149row13_col1\" class=\"data row13 col1\" >0.0770835</td>\n                        <td id=\"T_cd76eb9c_be9b_11eb_b4b8_a483e719d149row13_col2\" class=\"data row13 col2\" >0.971604</td>\n                        <td id=\"T_cd76eb9c_be9b_11eb_b4b8_a483e719d149row13_col3\" class=\"data row13 col3\" >0.998721</td>\n                        <td id=\"T_cd76eb9c_be9b_11eb_b4b8_a483e719d149row13_col4\" class=\"data row13 col4\" >0.979083</td>\n                        <td id=\"T_cd76eb9c_be9b_11eb_b4b8_a483e719d149row13_col5\" class=\"data row13 col5\" >0.999021</td>\n            </tr>\n            <tr>\n                        <th id=\"T_cd76eb9c_be9b_11eb_b4b8_a483e719d149level0_row14\" class=\"row_heading level0 row14\" >14</th>\n                        <td id=\"T_cd76eb9c_be9b_11eb_b4b8_a483e719d149row14_col0\" class=\"data row14 col0\" >0.0925922</td>\n                        <td id=\"T_cd76eb9c_be9b_11eb_b4b8_a483e719d149row14_col1\" class=\"data row14 col1\" >0.0754499</td>\n                        <td id=\"T_cd76eb9c_be9b_11eb_b4b8_a483e719d149row14_col2\" class=\"data row14 col2\" >0.971812</td>\n                        <td id=\"T_cd76eb9c_be9b_11eb_b4b8_a483e719d149row14_col3\" class=\"data row14 col3\" >0.99878</td>\n                        <td id=\"T_cd76eb9c_be9b_11eb_b4b8_a483e719d149row14_col4\" class=\"data row14 col4\" >0.9795</td>\n                        <td id=\"T_cd76eb9c_be9b_11eb_b4b8_a483e719d149row14_col5\" class=\"data row14 col5\" >0.998994</td>\n            </tr>\n            <tr>\n                        <th id=\"T_cd76eb9c_be9b_11eb_b4b8_a483e719d149level0_row15\" class=\"row_heading level0 row15\" >15</th>\n                        <td id=\"T_cd76eb9c_be9b_11eb_b4b8_a483e719d149row15_col0\" class=\"data row15 col0\" >0.0904638</td>\n                        <td id=\"T_cd76eb9c_be9b_11eb_b4b8_a483e719d149row15_col1\" class=\"data row15 col1\" >0.0734468</td>\n                        <td id=\"T_cd76eb9c_be9b_11eb_b4b8_a483e719d149row15_col2\" class=\"data row15 col2\" >0.971479</td>\n                        <td id=\"T_cd76eb9c_be9b_11eb_b4b8_a483e719d149row15_col3\" class=\"data row15 col3\" >0.998985</td>\n                        <td id=\"T_cd76eb9c_be9b_11eb_b4b8_a483e719d149row15_col4\" class=\"data row15 col4\" >0.979667</td>\n                        <td id=\"T_cd76eb9c_be9b_11eb_b4b8_a483e719d149row15_col5\" class=\"data row15 col5\" >0.999011</td>\n            </tr>\n            <tr>\n                        <th id=\"T_cd76eb9c_be9b_11eb_b4b8_a483e719d149level0_row16\" class=\"row_heading level0 row16\" >16</th>\n                        <td id=\"T_cd76eb9c_be9b_11eb_b4b8_a483e719d149row16_col0\" class=\"data row16 col0\" >0.0850317</td>\n                        <td id=\"T_cd76eb9c_be9b_11eb_b4b8_a483e719d149row16_col1\" class=\"data row16 col1\" >0.0731042</td>\n                        <td id=\"T_cd76eb9c_be9b_11eb_b4b8_a483e719d149row16_col2\" class=\"data row16 col2\" >0.973854</td>\n                        <td id=\"T_cd76eb9c_be9b_11eb_b4b8_a483e719d149row16_col3\" class=\"data row16 col3\" >0.998877</td>\n                        <td id=\"T_cd76eb9c_be9b_11eb_b4b8_a483e719d149row16_col4\" class=\"data row16 col4\" >0.97975</td>\n                        <td id=\"T_cd76eb9c_be9b_11eb_b4b8_a483e719d149row16_col5\" class=\"data row16 col5\" >0.999062</td>\n            </tr>\n            <tr>\n                        <th id=\"T_cd76eb9c_be9b_11eb_b4b8_a483e719d149level0_row17\" class=\"row_heading level0 row17\" >17</th>\n                        <td id=\"T_cd76eb9c_be9b_11eb_b4b8_a483e719d149row17_col0\" class=\"data row17 col0\" >0.0839904</td>\n                        <td id=\"T_cd76eb9c_be9b_11eb_b4b8_a483e719d149row17_col1\" class=\"data row17 col1\" >0.0719171</td>\n                        <td id=\"T_cd76eb9c_be9b_11eb_b4b8_a483e719d149row17_col2\" class=\"data row17 col2\" >0.974333</td>\n                        <td id=\"T_cd76eb9c_be9b_11eb_b4b8_a483e719d149row17_col3\" class=\"data row17 col3\" >0.99899</td>\n                        <td id=\"T_cd76eb9c_be9b_11eb_b4b8_a483e719d149row17_col4\" class=\"data row17 col4\" >0.979917</td>\n                        <td id=\"T_cd76eb9c_be9b_11eb_b4b8_a483e719d149row17_col5\" class=\"data row17 col5\" >0.999068</td>\n            </tr>\n            <tr>\n                        <th id=\"T_cd76eb9c_be9b_11eb_b4b8_a483e719d149level0_row18\" class=\"row_heading level0 row18\" >18</th>\n                        <td id=\"T_cd76eb9c_be9b_11eb_b4b8_a483e719d149row18_col0\" class=\"data row18 col0\" >0.0824423</td>\n                        <td id=\"T_cd76eb9c_be9b_11eb_b4b8_a483e719d149row18_col1\" class=\"data row18 col1\" >0.0710519</td>\n                        <td id=\"T_cd76eb9c_be9b_11eb_b4b8_a483e719d149row18_col2\" class=\"data row18 col2\" >0.974292</td>\n                        <td id=\"T_cd76eb9c_be9b_11eb_b4b8_a483e719d149row18_col3\" class=\"data row18 col3\" >0.99896</td>\n                        <td id=\"T_cd76eb9c_be9b_11eb_b4b8_a483e719d149row18_col4\" class=\"data row18 col4\" >0.980417</td>\n                        <td id=\"T_cd76eb9c_be9b_11eb_b4b8_a483e719d149row18_col5\" class=\"data row18 col5\" >0.999037</td>\n            </tr>\n            <tr>\n                        <th id=\"T_cd76eb9c_be9b_11eb_b4b8_a483e719d149level0_row19\" class=\"row_heading level0 row19\" >19</th>\n                        <td id=\"T_cd76eb9c_be9b_11eb_b4b8_a483e719d149row19_col0\" class=\"data row19 col0\" >0.0797525</td>\n                        <td id=\"T_cd76eb9c_be9b_11eb_b4b8_a483e719d149row19_col1\" class=\"data row19 col1\" >0.0690296</td>\n                        <td id=\"T_cd76eb9c_be9b_11eb_b4b8_a483e719d149row19_col2\" class=\"data row19 col2\" >0.975729</td>\n                        <td id=\"T_cd76eb9c_be9b_11eb_b4b8_a483e719d149row19_col3\" class=\"data row19 col3\" >0.999102</td>\n                        <td id=\"T_cd76eb9c_be9b_11eb_b4b8_a483e719d149row19_col4\" class=\"data row19 col4\" >0.98075</td>\n                        <td id=\"T_cd76eb9c_be9b_11eb_b4b8_a483e719d149row19_col5\" class=\"data row19 col5\" >0.999056</td>\n            </tr>\n            <tr>\n                        <th id=\"T_cd76eb9c_be9b_11eb_b4b8_a483e719d149level0_row20\" class=\"row_heading level0 row20\" >20</th>\n                        <td id=\"T_cd76eb9c_be9b_11eb_b4b8_a483e719d149row20_col0\" class=\"data row20 col0\" >0.0791424</td>\n                        <td id=\"T_cd76eb9c_be9b_11eb_b4b8_a483e719d149row20_col1\" class=\"data row20 col1\" >0.0681487</td>\n                        <td id=\"T_cd76eb9c_be9b_11eb_b4b8_a483e719d149row20_col2\" class=\"data row20 col2\" >0.976062</td>\n                        <td id=\"T_cd76eb9c_be9b_11eb_b4b8_a483e719d149row20_col3\" class=\"data row20 col3\" >0.999035</td>\n                        <td id=\"T_cd76eb9c_be9b_11eb_b4b8_a483e719d149row20_col4\" class=\"data row20 col4\" >0.981</td>\n                        <td id=\"T_cd76eb9c_be9b_11eb_b4b8_a483e719d149row20_col5\" class=\"data row20 col5\" >0.999061</td>\n            </tr>\n            <tr>\n                        <th id=\"T_cd76eb9c_be9b_11eb_b4b8_a483e719d149level0_row21\" class=\"row_heading level0 row21\" >21</th>\n                        <td id=\"T_cd76eb9c_be9b_11eb_b4b8_a483e719d149row21_col0\" class=\"data row21 col0\" >0.0769772</td>\n                        <td id=\"T_cd76eb9c_be9b_11eb_b4b8_a483e719d149row21_col1\" class=\"data row21 col1\" >0.0682877</td>\n                        <td id=\"T_cd76eb9c_be9b_11eb_b4b8_a483e719d149row21_col2\" class=\"data row21 col2\" >0.975833</td>\n                        <td id=\"T_cd76eb9c_be9b_11eb_b4b8_a483e719d149row21_col3\" class=\"data row21 col3\" >0.999041</td>\n                        <td id=\"T_cd76eb9c_be9b_11eb_b4b8_a483e719d149row21_col4\" class=\"data row21 col4\" >0.980583</td>\n                        <td id=\"T_cd76eb9c_be9b_11eb_b4b8_a483e719d149row21_col5\" class=\"data row21 col5\" >0.999062</td>\n            </tr>\n            <tr>\n                        <th id=\"T_cd76eb9c_be9b_11eb_b4b8_a483e719d149level0_row22\" class=\"row_heading level0 row22\" >22</th>\n                        <td id=\"T_cd76eb9c_be9b_11eb_b4b8_a483e719d149row22_col0\" class=\"data row22 col0\" >0.0756739</td>\n                        <td id=\"T_cd76eb9c_be9b_11eb_b4b8_a483e719d149row22_col1\" class=\"data row22 col1\" >0.0663519</td>\n                        <td id=\"T_cd76eb9c_be9b_11eb_b4b8_a483e719d149row22_col2\" class=\"data row22 col2\" >0.976854</td>\n                        <td id=\"T_cd76eb9c_be9b_11eb_b4b8_a483e719d149row22_col3\" class=\"data row22 col3\" >0.99925</td>\n                        <td id=\"T_cd76eb9c_be9b_11eb_b4b8_a483e719d149row22_col4\" class=\"data row22 col4\" >0.98175</td>\n                        <td id=\"T_cd76eb9c_be9b_11eb_b4b8_a483e719d149row22_col5\" class=\"data row22 col5\" >0.998989</td>\n            </tr>\n            <tr>\n                        <th id=\"T_cd76eb9c_be9b_11eb_b4b8_a483e719d149level0_row23\" class=\"row_heading level0 row23\" >23</th>\n                        <td id=\"T_cd76eb9c_be9b_11eb_b4b8_a483e719d149row23_col0\" class=\"data row23 col0\" >0.0726015</td>\n                        <td id=\"T_cd76eb9c_be9b_11eb_b4b8_a483e719d149row23_col1\" class=\"data row23 col1\" >0.0647512</td>\n                        <td id=\"T_cd76eb9c_be9b_11eb_b4b8_a483e719d149row23_col2\" class=\"data row23 col2\" >0.977729</td>\n                        <td id=\"T_cd76eb9c_be9b_11eb_b4b8_a483e719d149row23_col3\" class=\"data row23 col3\" >0.999091</td>\n                        <td id=\"T_cd76eb9c_be9b_11eb_b4b8_a483e719d149row23_col4\" class=\"data row23 col4\" >0.98125</td>\n                        <td id=\"T_cd76eb9c_be9b_11eb_b4b8_a483e719d149row23_col5\" class=\"data row23 col5\" >0.999169</td>\n            </tr>\n            <tr>\n                        <th id=\"T_cd76eb9c_be9b_11eb_b4b8_a483e719d149level0_row24\" class=\"row_heading level0 row24\" >24</th>\n                        <td id=\"T_cd76eb9c_be9b_11eb_b4b8_a483e719d149row24_col0\" class=\"data row24 col0\" >0.0719471</td>\n                        <td id=\"T_cd76eb9c_be9b_11eb_b4b8_a483e719d149row24_col1\" class=\"data row24 col1\" >0.0641908</td>\n                        <td id=\"T_cd76eb9c_be9b_11eb_b4b8_a483e719d149row24_col2\" class=\"data row24 col2\" >0.977938</td>\n                        <td id=\"T_cd76eb9c_be9b_11eb_b4b8_a483e719d149row24_col3\" class=\"data row24 col3\" >0.999191</td>\n                        <td id=\"T_cd76eb9c_be9b_11eb_b4b8_a483e719d149row24_col4\" class=\"data row24 col4\" >0.982</td>\n                        <td id=\"T_cd76eb9c_be9b_11eb_b4b8_a483e719d149row24_col5\" class=\"data row24 col5\" >0.999136</td>\n            </tr>\n    </tbody></table>",
          "text/plain": "<pandas.io.formats.style.Styler at 0x63e8d3610>"
         },
         "metadata": {},
         "output_type": "display_data"
        }
       ]
      }
     },
     "ad8367fb40b440628034b58ff4ed50b6": {
      "model_module": "@jupyter-widgets/output",
      "model_module_version": "1.0.0",
      "model_name": "OutputModel",
      "state": {
       "layout": "IPY_MODEL_85ac0910ff424f65b00e953c4b909b92",
       "outputs": [
        {
         "data": {
          "text/html": "<style  type=\"text/css\" >\n    #T_2ebcd112_be99_11eb_9fe4_a483e719d149row0_col0 {\n            background-color:  #e67575;\n        }    #T_2ebcd112_be99_11eb_9fe4_a483e719d149row0_col1 {\n            background-color:  #e67575;\n        }    #T_2ebcd112_be99_11eb_9fe4_a483e719d149row0_col2 {\n            background-color:  #5fba7d;\n        }    #T_2ebcd112_be99_11eb_9fe4_a483e719d149row0_col3 {\n            background-color:  #5fba7d;\n        }    #T_2ebcd112_be99_11eb_9fe4_a483e719d149row0_col4 {\n            background-color:  #5fba7d;\n        }    #T_2ebcd112_be99_11eb_9fe4_a483e719d149row0_col5 {\n            background-color:  #5fba7d;\n        }    #T_2ebcd112_be99_11eb_9fe4_a483e719d149row22_col3 {\n            background-color:  #e67575;\n        }    #T_2ebcd112_be99_11eb_9fe4_a483e719d149row23_col1 {\n            background-color:  #5fba7d;\n        }    #T_2ebcd112_be99_11eb_9fe4_a483e719d149row23_col4 {\n            background-color:  #e67575;\n        }    #T_2ebcd112_be99_11eb_9fe4_a483e719d149row24_col0 {\n            background-color:  #5fba7d;\n        }    #T_2ebcd112_be99_11eb_9fe4_a483e719d149row24_col2 {\n            background-color:  #e67575;\n        }    #T_2ebcd112_be99_11eb_9fe4_a483e719d149row24_col5 {\n            background-color:  #e67575;\n        }</style><table id=\"T_2ebcd112_be99_11eb_9fe4_a483e719d149\" ><thead>    <tr>        <th class=\"blank level0\" ></th>        <th class=\"col_heading level0 col0\" >loss</th>        <th class=\"col_heading level0 col1\" >val_loss</th>        <th class=\"col_heading level0 col2\" >accuracy</th>        <th class=\"col_heading level0 col3\" >auc</th>        <th class=\"col_heading level0 col4\" >val_accuracy</th>        <th class=\"col_heading level0 col5\" >val_auc</th>    </tr></thead><tbody>\n                <tr>\n                        <th id=\"T_2ebcd112_be99_11eb_9fe4_a483e719d149level0_row0\" class=\"row_heading level0 row0\" >0</th>\n                        <td id=\"T_2ebcd112_be99_11eb_9fe4_a483e719d149row0_col0\" class=\"data row0 col0\" >0.789631</td>\n                        <td id=\"T_2ebcd112_be99_11eb_9fe4_a483e719d149row0_col1\" class=\"data row0 col1\" >0.305023</td>\n                        <td id=\"T_2ebcd112_be99_11eb_9fe4_a483e719d149row0_col2\" class=\"data row0 col2\" >0.795667</td>\n                        <td id=\"T_2ebcd112_be99_11eb_9fe4_a483e719d149row0_col3\" class=\"data row0 col3\" >0.970976</td>\n                        <td id=\"T_2ebcd112_be99_11eb_9fe4_a483e719d149row0_col4\" class=\"data row0 col4\" >0.914</td>\n                        <td id=\"T_2ebcd112_be99_11eb_9fe4_a483e719d149row0_col5\" class=\"data row0 col5\" >0.992634</td>\n            </tr>\n            <tr>\n                        <th id=\"T_2ebcd112_be99_11eb_9fe4_a483e719d149level0_row1\" class=\"row_heading level0 row1\" >1</th>\n                        <td id=\"T_2ebcd112_be99_11eb_9fe4_a483e719d149row1_col0\" class=\"data row1 col0\" >0.311819</td>\n                        <td id=\"T_2ebcd112_be99_11eb_9fe4_a483e719d149row1_col1\" class=\"data row1 col1\" >0.23518</td>\n                        <td id=\"T_2ebcd112_be99_11eb_9fe4_a483e719d149row1_col2\" class=\"data row1 col2\" >0.908521</td>\n                        <td id=\"T_2ebcd112_be99_11eb_9fe4_a483e719d149row1_col3\" class=\"data row1 col3\" >0.992431</td>\n                        <td id=\"T_2ebcd112_be99_11eb_9fe4_a483e719d149row1_col4\" class=\"data row1 col4\" >0.934167</td>\n                        <td id=\"T_2ebcd112_be99_11eb_9fe4_a483e719d149row1_col5\" class=\"data row1 col5\" >0.994827</td>\n            </tr>\n            <tr>\n                        <th id=\"T_2ebcd112_be99_11eb_9fe4_a483e719d149level0_row2\" class=\"row_heading level0 row2\" >2</th>\n                        <td id=\"T_2ebcd112_be99_11eb_9fe4_a483e719d149row2_col0\" class=\"data row2 col0\" >0.250939</td>\n                        <td id=\"T_2ebcd112_be99_11eb_9fe4_a483e719d149row2_col1\" class=\"data row2 col1\" >0.1911</td>\n                        <td id=\"T_2ebcd112_be99_11eb_9fe4_a483e719d149row2_col2\" class=\"data row2 col2\" >0.926083</td>\n                        <td id=\"T_2ebcd112_be99_11eb_9fe4_a483e719d149row2_col3\" class=\"data row2 col3\" >0.99452</td>\n                        <td id=\"T_2ebcd112_be99_11eb_9fe4_a483e719d149row2_col4\" class=\"data row2 col4\" >0.948417</td>\n                        <td id=\"T_2ebcd112_be99_11eb_9fe4_a483e719d149row2_col5\" class=\"data row2 col5\" >0.996204</td>\n            </tr>\n            <tr>\n                        <th id=\"T_2ebcd112_be99_11eb_9fe4_a483e719d149level0_row3\" class=\"row_heading level0 row3\" >3</th>\n                        <td id=\"T_2ebcd112_be99_11eb_9fe4_a483e719d149row3_col0\" class=\"data row3 col0\" >0.209174</td>\n                        <td id=\"T_2ebcd112_be99_11eb_9fe4_a483e719d149row3_col1\" class=\"data row3 col1\" >0.16106</td>\n                        <td id=\"T_2ebcd112_be99_11eb_9fe4_a483e719d149row3_col2\" class=\"data row3 col2\" >0.938958</td>\n                        <td id=\"T_2ebcd112_be99_11eb_9fe4_a483e719d149row3_col3\" class=\"data row3 col3\" >0.996119</td>\n                        <td id=\"T_2ebcd112_be99_11eb_9fe4_a483e719d149row3_col4\" class=\"data row3 col4\" >0.957667</td>\n                        <td id=\"T_2ebcd112_be99_11eb_9fe4_a483e719d149row3_col5\" class=\"data row3 col5\" >0.997191</td>\n            </tr>\n            <tr>\n                        <th id=\"T_2ebcd112_be99_11eb_9fe4_a483e719d149level0_row4\" class=\"row_heading level0 row4\" >4</th>\n                        <td id=\"T_2ebcd112_be99_11eb_9fe4_a483e719d149row4_col0\" class=\"data row4 col0\" >0.181211</td>\n                        <td id=\"T_2ebcd112_be99_11eb_9fe4_a483e719d149row4_col1\" class=\"data row4 col1\" >0.142427</td>\n                        <td id=\"T_2ebcd112_be99_11eb_9fe4_a483e719d149row4_col2\" class=\"data row4 col2\" >0.946479</td>\n                        <td id=\"T_2ebcd112_be99_11eb_9fe4_a483e719d149row4_col3\" class=\"data row4 col3\" >0.996922</td>\n                        <td id=\"T_2ebcd112_be99_11eb_9fe4_a483e719d149row4_col4\" class=\"data row4 col4\" >0.961917</td>\n                        <td id=\"T_2ebcd112_be99_11eb_9fe4_a483e719d149row4_col5\" class=\"data row4 col5\" >0.997553</td>\n            </tr>\n            <tr>\n                        <th id=\"T_2ebcd112_be99_11eb_9fe4_a483e719d149level0_row5\" class=\"row_heading level0 row5\" >5</th>\n                        <td id=\"T_2ebcd112_be99_11eb_9fe4_a483e719d149row5_col0\" class=\"data row5 col0\" >0.162509</td>\n                        <td id=\"T_2ebcd112_be99_11eb_9fe4_a483e719d149row5_col1\" class=\"data row5 col1\" >0.125788</td>\n                        <td id=\"T_2ebcd112_be99_11eb_9fe4_a483e719d149row5_col2\" class=\"data row5 col2\" >0.952521</td>\n                        <td id=\"T_2ebcd112_be99_11eb_9fe4_a483e719d149row5_col3\" class=\"data row5 col3\" >0.997476</td>\n                        <td id=\"T_2ebcd112_be99_11eb_9fe4_a483e719d149row5_col4\" class=\"data row5 col4\" >0.9665</td>\n                        <td id=\"T_2ebcd112_be99_11eb_9fe4_a483e719d149row5_col5\" class=\"data row5 col5\" >0.99783</td>\n            </tr>\n            <tr>\n                        <th id=\"T_2ebcd112_be99_11eb_9fe4_a483e719d149level0_row6\" class=\"row_heading level0 row6\" >6</th>\n                        <td id=\"T_2ebcd112_be99_11eb_9fe4_a483e719d149row6_col0\" class=\"data row6 col0\" >0.148678</td>\n                        <td id=\"T_2ebcd112_be99_11eb_9fe4_a483e719d149row6_col1\" class=\"data row6 col1\" >0.117579</td>\n                        <td id=\"T_2ebcd112_be99_11eb_9fe4_a483e719d149row6_col2\" class=\"data row6 col2\" >0.957083</td>\n                        <td id=\"T_2ebcd112_be99_11eb_9fe4_a483e719d149row6_col3\" class=\"data row6 col3\" >0.997732</td>\n                        <td id=\"T_2ebcd112_be99_11eb_9fe4_a483e719d149row6_col4\" class=\"data row6 col4\" >0.969</td>\n                        <td id=\"T_2ebcd112_be99_11eb_9fe4_a483e719d149row6_col5\" class=\"data row6 col5\" >0.997971</td>\n            </tr>\n            <tr>\n                        <th id=\"T_2ebcd112_be99_11eb_9fe4_a483e719d149level0_row7\" class=\"row_heading level0 row7\" >7</th>\n                        <td id=\"T_2ebcd112_be99_11eb_9fe4_a483e719d149row7_col0\" class=\"data row7 col0\" >0.138024</td>\n                        <td id=\"T_2ebcd112_be99_11eb_9fe4_a483e719d149row7_col1\" class=\"data row7 col1\" >0.107705</td>\n                        <td id=\"T_2ebcd112_be99_11eb_9fe4_a483e719d149row7_col2\" class=\"data row7 col2\" >0.959042</td>\n                        <td id=\"T_2ebcd112_be99_11eb_9fe4_a483e719d149row7_col3\" class=\"data row7 col3\" >0.998089</td>\n                        <td id=\"T_2ebcd112_be99_11eb_9fe4_a483e719d149row7_col4\" class=\"data row7 col4\" >0.971083</td>\n                        <td id=\"T_2ebcd112_be99_11eb_9fe4_a483e719d149row7_col5\" class=\"data row7 col5\" >0.998256</td>\n            </tr>\n            <tr>\n                        <th id=\"T_2ebcd112_be99_11eb_9fe4_a483e719d149level0_row8\" class=\"row_heading level0 row8\" >8</th>\n                        <td id=\"T_2ebcd112_be99_11eb_9fe4_a483e719d149row8_col0\" class=\"data row8 col0\" >0.130716</td>\n                        <td id=\"T_2ebcd112_be99_11eb_9fe4_a483e719d149row8_col1\" class=\"data row8 col1\" >0.101374</td>\n                        <td id=\"T_2ebcd112_be99_11eb_9fe4_a483e719d149row8_col2\" class=\"data row8 col2\" >0.961458</td>\n                        <td id=\"T_2ebcd112_be99_11eb_9fe4_a483e719d149row8_col3\" class=\"data row8 col3\" >0.9983</td>\n                        <td id=\"T_2ebcd112_be99_11eb_9fe4_a483e719d149row8_col4\" class=\"data row8 col4\" >0.9725</td>\n                        <td id=\"T_2ebcd112_be99_11eb_9fe4_a483e719d149row8_col5\" class=\"data row8 col5\" >0.998328</td>\n            </tr>\n            <tr>\n                        <th id=\"T_2ebcd112_be99_11eb_9fe4_a483e719d149level0_row9\" class=\"row_heading level0 row9\" >9</th>\n                        <td id=\"T_2ebcd112_be99_11eb_9fe4_a483e719d149row9_col0\" class=\"data row9 col0\" >0.123081</td>\n                        <td id=\"T_2ebcd112_be99_11eb_9fe4_a483e719d149row9_col1\" class=\"data row9 col1\" >0.0972279</td>\n                        <td id=\"T_2ebcd112_be99_11eb_9fe4_a483e719d149row9_col2\" class=\"data row9 col2\" >0.963854</td>\n                        <td id=\"T_2ebcd112_be99_11eb_9fe4_a483e719d149row9_col3\" class=\"data row9 col3\" >0.998248</td>\n                        <td id=\"T_2ebcd112_be99_11eb_9fe4_a483e719d149row9_col4\" class=\"data row9 col4\" >0.974667</td>\n                        <td id=\"T_2ebcd112_be99_11eb_9fe4_a483e719d149row9_col5\" class=\"data row9 col5\" >0.998421</td>\n            </tr>\n            <tr>\n                        <th id=\"T_2ebcd112_be99_11eb_9fe4_a483e719d149level0_row10\" class=\"row_heading level0 row10\" >10</th>\n                        <td id=\"T_2ebcd112_be99_11eb_9fe4_a483e719d149row10_col0\" class=\"data row10 col0\" >0.116329</td>\n                        <td id=\"T_2ebcd112_be99_11eb_9fe4_a483e719d149row10_col1\" class=\"data row10 col1\" >0.0925411</td>\n                        <td id=\"T_2ebcd112_be99_11eb_9fe4_a483e719d149row10_col2\" class=\"data row10 col2\" >0.964708</td>\n                        <td id=\"T_2ebcd112_be99_11eb_9fe4_a483e719d149row10_col3\" class=\"data row10 col3\" >0.998537</td>\n                        <td id=\"T_2ebcd112_be99_11eb_9fe4_a483e719d149row10_col4\" class=\"data row10 col4\" >0.975917</td>\n                        <td id=\"T_2ebcd112_be99_11eb_9fe4_a483e719d149row10_col5\" class=\"data row10 col5\" >0.998541</td>\n            </tr>\n            <tr>\n                        <th id=\"T_2ebcd112_be99_11eb_9fe4_a483e719d149level0_row11\" class=\"row_heading level0 row11\" >11</th>\n                        <td id=\"T_2ebcd112_be99_11eb_9fe4_a483e719d149row11_col0\" class=\"data row11 col0\" >0.112681</td>\n                        <td id=\"T_2ebcd112_be99_11eb_9fe4_a483e719d149row11_col1\" class=\"data row11 col1\" >0.0890012</td>\n                        <td id=\"T_2ebcd112_be99_11eb_9fe4_a483e719d149row11_col2\" class=\"data row11 col2\" >0.966187</td>\n                        <td id=\"T_2ebcd112_be99_11eb_9fe4_a483e719d149row11_col3\" class=\"data row11 col3\" >0.998489</td>\n                        <td id=\"T_2ebcd112_be99_11eb_9fe4_a483e719d149row11_col4\" class=\"data row11 col4\" >0.977583</td>\n                        <td id=\"T_2ebcd112_be99_11eb_9fe4_a483e719d149row11_col5\" class=\"data row11 col5\" >0.998575</td>\n            </tr>\n            <tr>\n                        <th id=\"T_2ebcd112_be99_11eb_9fe4_a483e719d149level0_row12\" class=\"row_heading level0 row12\" >12</th>\n                        <td id=\"T_2ebcd112_be99_11eb_9fe4_a483e719d149row12_col0\" class=\"data row12 col0\" >0.107618</td>\n                        <td id=\"T_2ebcd112_be99_11eb_9fe4_a483e719d149row12_col1\" class=\"data row12 col1\" >0.0860593</td>\n                        <td id=\"T_2ebcd112_be99_11eb_9fe4_a483e719d149row12_col2\" class=\"data row12 col2\" >0.967646</td>\n                        <td id=\"T_2ebcd112_be99_11eb_9fe4_a483e719d149row12_col3\" class=\"data row12 col3\" >0.998545</td>\n                        <td id=\"T_2ebcd112_be99_11eb_9fe4_a483e719d149row12_col4\" class=\"data row12 col4\" >0.977667</td>\n                        <td id=\"T_2ebcd112_be99_11eb_9fe4_a483e719d149row12_col5\" class=\"data row12 col5\" >0.998728</td>\n            </tr>\n            <tr>\n                        <th id=\"T_2ebcd112_be99_11eb_9fe4_a483e719d149level0_row13\" class=\"row_heading level0 row13\" >13</th>\n                        <td id=\"T_2ebcd112_be99_11eb_9fe4_a483e719d149row13_col0\" class=\"data row13 col0\" >0.102977</td>\n                        <td id=\"T_2ebcd112_be99_11eb_9fe4_a483e719d149row13_col1\" class=\"data row13 col1\" >0.0832407</td>\n                        <td id=\"T_2ebcd112_be99_11eb_9fe4_a483e719d149row13_col2\" class=\"data row13 col2\" >0.968854</td>\n                        <td id=\"T_2ebcd112_be99_11eb_9fe4_a483e719d149row13_col3\" class=\"data row13 col3\" >0.998674</td>\n                        <td id=\"T_2ebcd112_be99_11eb_9fe4_a483e719d149row13_col4\" class=\"data row13 col4\" >0.978583</td>\n                        <td id=\"T_2ebcd112_be99_11eb_9fe4_a483e719d149row13_col5\" class=\"data row13 col5\" >0.998786</td>\n            </tr>\n            <tr>\n                        <th id=\"T_2ebcd112_be99_11eb_9fe4_a483e719d149level0_row14\" class=\"row_heading level0 row14\" >14</th>\n                        <td id=\"T_2ebcd112_be99_11eb_9fe4_a483e719d149row14_col0\" class=\"data row14 col0\" >0.101848</td>\n                        <td id=\"T_2ebcd112_be99_11eb_9fe4_a483e719d149row14_col1\" class=\"data row14 col1\" >0.0802378</td>\n                        <td id=\"T_2ebcd112_be99_11eb_9fe4_a483e719d149row14_col2\" class=\"data row14 col2\" >0.968562</td>\n                        <td id=\"T_2ebcd112_be99_11eb_9fe4_a483e719d149row14_col3\" class=\"data row14 col3\" >0.998709</td>\n                        <td id=\"T_2ebcd112_be99_11eb_9fe4_a483e719d149row14_col4\" class=\"data row14 col4\" >0.979</td>\n                        <td id=\"T_2ebcd112_be99_11eb_9fe4_a483e719d149row14_col5\" class=\"data row14 col5\" >0.998744</td>\n            </tr>\n            <tr>\n                        <th id=\"T_2ebcd112_be99_11eb_9fe4_a483e719d149level0_row15\" class=\"row_heading level0 row15\" >15</th>\n                        <td id=\"T_2ebcd112_be99_11eb_9fe4_a483e719d149row15_col0\" class=\"data row15 col0\" >0.0969002</td>\n                        <td id=\"T_2ebcd112_be99_11eb_9fe4_a483e719d149row15_col1\" class=\"data row15 col1\" >0.0770408</td>\n                        <td id=\"T_2ebcd112_be99_11eb_9fe4_a483e719d149row15_col2\" class=\"data row15 col2\" >0.970646</td>\n                        <td id=\"T_2ebcd112_be99_11eb_9fe4_a483e719d149row15_col3\" class=\"data row15 col3\" >0.998746</td>\n                        <td id=\"T_2ebcd112_be99_11eb_9fe4_a483e719d149row15_col4\" class=\"data row15 col4\" >0.979833</td>\n                        <td id=\"T_2ebcd112_be99_11eb_9fe4_a483e719d149row15_col5\" class=\"data row15 col5\" >0.998895</td>\n            </tr>\n            <tr>\n                        <th id=\"T_2ebcd112_be99_11eb_9fe4_a483e719d149level0_row16\" class=\"row_heading level0 row16\" >16</th>\n                        <td id=\"T_2ebcd112_be99_11eb_9fe4_a483e719d149row16_col0\" class=\"data row16 col0\" >0.0940535</td>\n                        <td id=\"T_2ebcd112_be99_11eb_9fe4_a483e719d149row16_col1\" class=\"data row16 col1\" >0.0763284</td>\n                        <td id=\"T_2ebcd112_be99_11eb_9fe4_a483e719d149row16_col2\" class=\"data row16 col2\" >0.97075</td>\n                        <td id=\"T_2ebcd112_be99_11eb_9fe4_a483e719d149row16_col3\" class=\"data row16 col3\" >0.998923</td>\n                        <td id=\"T_2ebcd112_be99_11eb_9fe4_a483e719d149row16_col4\" class=\"data row16 col4\" >0.98</td>\n                        <td id=\"T_2ebcd112_be99_11eb_9fe4_a483e719d149row16_col5\" class=\"data row16 col5\" >0.998863</td>\n            </tr>\n            <tr>\n                        <th id=\"T_2ebcd112_be99_11eb_9fe4_a483e719d149level0_row17\" class=\"row_heading level0 row17\" >17</th>\n                        <td id=\"T_2ebcd112_be99_11eb_9fe4_a483e719d149row17_col0\" class=\"data row17 col0\" >0.0923245</td>\n                        <td id=\"T_2ebcd112_be99_11eb_9fe4_a483e719d149row17_col1\" class=\"data row17 col1\" >0.0744256</td>\n                        <td id=\"T_2ebcd112_be99_11eb_9fe4_a483e719d149row17_col2\" class=\"data row17 col2\" >0.971854</td>\n                        <td id=\"T_2ebcd112_be99_11eb_9fe4_a483e719d149row17_col3\" class=\"data row17 col3\" >0.998874</td>\n                        <td id=\"T_2ebcd112_be99_11eb_9fe4_a483e719d149row17_col4\" class=\"data row17 col4\" >0.979833</td>\n                        <td id=\"T_2ebcd112_be99_11eb_9fe4_a483e719d149row17_col5\" class=\"data row17 col5\" >0.998883</td>\n            </tr>\n            <tr>\n                        <th id=\"T_2ebcd112_be99_11eb_9fe4_a483e719d149level0_row18\" class=\"row_heading level0 row18\" >18</th>\n                        <td id=\"T_2ebcd112_be99_11eb_9fe4_a483e719d149row18_col0\" class=\"data row18 col0\" >0.0859082</td>\n                        <td id=\"T_2ebcd112_be99_11eb_9fe4_a483e719d149row18_col1\" class=\"data row18 col1\" >0.0730023</td>\n                        <td id=\"T_2ebcd112_be99_11eb_9fe4_a483e719d149row18_col2\" class=\"data row18 col2\" >0.974437</td>\n                        <td id=\"T_2ebcd112_be99_11eb_9fe4_a483e719d149row18_col3\" class=\"data row18 col3\" >0.999038</td>\n                        <td id=\"T_2ebcd112_be99_11eb_9fe4_a483e719d149row18_col4\" class=\"data row18 col4\" >0.981</td>\n                        <td id=\"T_2ebcd112_be99_11eb_9fe4_a483e719d149row18_col5\" class=\"data row18 col5\" >0.998854</td>\n            </tr>\n            <tr>\n                        <th id=\"T_2ebcd112_be99_11eb_9fe4_a483e719d149level0_row19\" class=\"row_heading level0 row19\" >19</th>\n                        <td id=\"T_2ebcd112_be99_11eb_9fe4_a483e719d149row19_col0\" class=\"data row19 col0\" >0.0866453</td>\n                        <td id=\"T_2ebcd112_be99_11eb_9fe4_a483e719d149row19_col1\" class=\"data row19 col1\" >0.071729</td>\n                        <td id=\"T_2ebcd112_be99_11eb_9fe4_a483e719d149row19_col2\" class=\"data row19 col2\" >0.973354</td>\n                        <td id=\"T_2ebcd112_be99_11eb_9fe4_a483e719d149row19_col3\" class=\"data row19 col3\" >0.998845</td>\n                        <td id=\"T_2ebcd112_be99_11eb_9fe4_a483e719d149row19_col4\" class=\"data row19 col4\" >0.980167</td>\n                        <td id=\"T_2ebcd112_be99_11eb_9fe4_a483e719d149row19_col5\" class=\"data row19 col5\" >0.998981</td>\n            </tr>\n            <tr>\n                        <th id=\"T_2ebcd112_be99_11eb_9fe4_a483e719d149level0_row20\" class=\"row_heading level0 row20\" >20</th>\n                        <td id=\"T_2ebcd112_be99_11eb_9fe4_a483e719d149row20_col0\" class=\"data row20 col0\" >0.0829119</td>\n                        <td id=\"T_2ebcd112_be99_11eb_9fe4_a483e719d149row20_col1\" class=\"data row20 col1\" >0.0714655</td>\n                        <td id=\"T_2ebcd112_be99_11eb_9fe4_a483e719d149row20_col2\" class=\"data row20 col2\" >0.974708</td>\n                        <td id=\"T_2ebcd112_be99_11eb_9fe4_a483e719d149row20_col3\" class=\"data row20 col3\" >0.999012</td>\n                        <td id=\"T_2ebcd112_be99_11eb_9fe4_a483e719d149row20_col4\" class=\"data row20 col4\" >0.9805</td>\n                        <td id=\"T_2ebcd112_be99_11eb_9fe4_a483e719d149row20_col5\" class=\"data row20 col5\" >0.998939</td>\n            </tr>\n            <tr>\n                        <th id=\"T_2ebcd112_be99_11eb_9fe4_a483e719d149level0_row21\" class=\"row_heading level0 row21\" >21</th>\n                        <td id=\"T_2ebcd112_be99_11eb_9fe4_a483e719d149row21_col0\" class=\"data row21 col0\" >0.0821927</td>\n                        <td id=\"T_2ebcd112_be99_11eb_9fe4_a483e719d149row21_col1\" class=\"data row21 col1\" >0.0700959</td>\n                        <td id=\"T_2ebcd112_be99_11eb_9fe4_a483e719d149row21_col2\" class=\"data row21 col2\" >0.974667</td>\n                        <td id=\"T_2ebcd112_be99_11eb_9fe4_a483e719d149row21_col3\" class=\"data row21 col3\" >0.999045</td>\n                        <td id=\"T_2ebcd112_be99_11eb_9fe4_a483e719d149row21_col4\" class=\"data row21 col4\" >0.981083</td>\n                        <td id=\"T_2ebcd112_be99_11eb_9fe4_a483e719d149row21_col5\" class=\"data row21 col5\" >0.999068</td>\n            </tr>\n            <tr>\n                        <th id=\"T_2ebcd112_be99_11eb_9fe4_a483e719d149level0_row22\" class=\"row_heading level0 row22\" >22</th>\n                        <td id=\"T_2ebcd112_be99_11eb_9fe4_a483e719d149row22_col0\" class=\"data row22 col0\" >0.0803645</td>\n                        <td id=\"T_2ebcd112_be99_11eb_9fe4_a483e719d149row22_col1\" class=\"data row22 col1\" >0.068411</td>\n                        <td id=\"T_2ebcd112_be99_11eb_9fe4_a483e719d149row22_col2\" class=\"data row22 col2\" >0.97525</td>\n                        <td id=\"T_2ebcd112_be99_11eb_9fe4_a483e719d149row22_col3\" class=\"data row22 col3\" >0.999163</td>\n                        <td id=\"T_2ebcd112_be99_11eb_9fe4_a483e719d149row22_col4\" class=\"data row22 col4\" >0.981333</td>\n                        <td id=\"T_2ebcd112_be99_11eb_9fe4_a483e719d149row22_col5\" class=\"data row22 col5\" >0.998959</td>\n            </tr>\n            <tr>\n                        <th id=\"T_2ebcd112_be99_11eb_9fe4_a483e719d149level0_row23\" class=\"row_heading level0 row23\" >23</th>\n                        <td id=\"T_2ebcd112_be99_11eb_9fe4_a483e719d149row23_col0\" class=\"data row23 col0\" >0.0776741</td>\n                        <td id=\"T_2ebcd112_be99_11eb_9fe4_a483e719d149row23_col1\" class=\"data row23 col1\" >0.0673731</td>\n                        <td id=\"T_2ebcd112_be99_11eb_9fe4_a483e719d149row23_col2\" class=\"data row23 col2\" >0.975479</td>\n                        <td id=\"T_2ebcd112_be99_11eb_9fe4_a483e719d149row23_col3\" class=\"data row23 col3\" >0.999132</td>\n                        <td id=\"T_2ebcd112_be99_11eb_9fe4_a483e719d149row23_col4\" class=\"data row23 col4\" >0.98275</td>\n                        <td id=\"T_2ebcd112_be99_11eb_9fe4_a483e719d149row23_col5\" class=\"data row23 col5\" >0.998977</td>\n            </tr>\n            <tr>\n                        <th id=\"T_2ebcd112_be99_11eb_9fe4_a483e719d149level0_row24\" class=\"row_heading level0 row24\" >24</th>\n                        <td id=\"T_2ebcd112_be99_11eb_9fe4_a483e719d149row24_col0\" class=\"data row24 col0\" >0.0755353</td>\n                        <td id=\"T_2ebcd112_be99_11eb_9fe4_a483e719d149row24_col1\" class=\"data row24 col1\" >0.0673975</td>\n                        <td id=\"T_2ebcd112_be99_11eb_9fe4_a483e719d149row24_col2\" class=\"data row24 col2\" >0.976979</td>\n                        <td id=\"T_2ebcd112_be99_11eb_9fe4_a483e719d149row24_col3\" class=\"data row24 col3\" >0.999139</td>\n                        <td id=\"T_2ebcd112_be99_11eb_9fe4_a483e719d149row24_col4\" class=\"data row24 col4\" >0.982083</td>\n                        <td id=\"T_2ebcd112_be99_11eb_9fe4_a483e719d149row24_col5\" class=\"data row24 col5\" >0.999098</td>\n            </tr>\n    </tbody></table>",
          "text/plain": "<pandas.io.formats.style.Styler at 0x642ecd350>"
         },
         "metadata": {},
         "output_type": "display_data"
        }
       ]
      }
     },
     "b119c237d3da413ba9ec07c9931c9ad2": {
      "model_module": "bqplot",
      "model_module_version": "^0.5.27",
      "model_name": "AxisModel",
      "state": {
       "_model_module_version": "^0.5.27",
       "_view_module_version": "^0.5.27",
       "label": "epoch",
       "scale": "IPY_MODEL_2f90e6dc50a240ad84df9d7dd2043dfe",
       "side": "bottom",
       "tick_values": null
      }
     },
     "b3567cbbb46b4464944479bf8e8ab0c4": {
      "model_module": "bqplot",
      "model_module_version": "^0.5.27",
      "model_name": "AxisModel",
      "state": {
       "_model_module_version": "^0.5.27",
       "_view_module_version": "^0.5.27",
       "label": "epoch",
       "scale": "IPY_MODEL_7f8aa1e4866240bb9da4336f58c0671f",
       "side": "bottom",
       "tick_values": null
      }
     },
     "b48f2f4112314ad5879605328197a9e1": {
      "model_module": "@jupyter-widgets/base",
      "model_module_version": "1.2.0",
      "model_name": "LayoutModel",
      "state": {
       "grid_area": "center"
      }
     },
     "b4dfecf44a2c42448a933a79f10b1c82": {
      "buffers": [
       {
        "data": "AAAAAAEAAAACAAAAAwAAAAQAAAAFAAAABgAAAAcAAAAIAAAACQAAAAoAAAALAAAADAAAAA0AAAAOAAAADwAAABAAAAARAAAAEgAAABMAAAAUAAAAFQAAABYAAAAXAAAAGAAAAA==",
        "encoding": "base64",
        "path": [
         "x",
         "value"
        ]
       },
       {
        "data": "AAAAQN9P7T8AAABgxwTuPwAAAADkXu4/AAAAoIqz7j8AAABAT9TuPwAAACCW/O4/AAAAoG4S7z8AAAAg3STvPwAAAMCQNO8/AAAA4AY67z8AAABAiUHvPwAAAGB1TO8/AAAAgFBG7z8AAAAA003vPwAAAKBhV+8/AAAAIL9Y7z8AAAAAn2HvPwAAAADkXu8/AAAAoPxi7z8AAADgCGXvPwAAAAB/au8/AAAA4MNn7z8AAACA3GvvPwAAAMDobe8/AAAAIPVv7z8=",
        "encoding": "base64",
        "path": [
         "y",
         "value"
        ]
       }
      ],
      "model_module": "bqplot",
      "model_module_version": "^0.5.27",
      "model_name": "LinesModel",
      "state": {
       "_model_module_version": "^0.5.27",
       "_view_module_version": "^0.5.27",
       "colors": [
        "green"
       ],
       "display_legend": true,
       "fill_colors": [],
       "labels": [
        "val"
       ],
       "scales": {
        "x": "IPY_MODEL_a80712e12cff4392844fc2be770280c2",
        "y": "IPY_MODEL_a3085b6f58b54fbabcc4b477e0fbd41d"
       },
       "x": {
        "dtype": "int32",
        "shape": [
         25
        ],
        "type": null,
        "value": {}
       },
       "y": {
        "dtype": "float64",
        "shape": [
         25
        ],
        "type": null,
        "value": {}
       }
      }
     },
     "b53fe5d477cf4a37b1621a9b014623ad": {
      "model_module": "bqplot",
      "model_module_version": "^0.5.27",
      "model_name": "FigureModel",
      "state": {
       "_model_module_version": "^0.5.27",
       "_view_module_version": "^0.5.27",
       "axes": [
        "IPY_MODEL_5d50ca24b884471ca098fcaf0d0a0890",
        "IPY_MODEL_7e49d86b4ddc4e62a0c922bbb0a33922"
       ],
       "layout": "IPY_MODEL_7a7d06f7759043a3956cc8803026d4df",
       "legend_location": "bottom",
       "marks": [
        "IPY_MODEL_0cb61577a63545a0a5bd7ad42709c0cb",
        "IPY_MODEL_4867cb772562433c9ac3ea0951167625"
       ],
       "scale_x": "IPY_MODEL_ef51b43aea3644aabd7e948c8dd03230",
       "scale_y": "IPY_MODEL_25812a85abf84c0faae293db15aa7e91",
       "title": "Loss"
      }
     },
     "b709bc63149a4eadbf92cd460dc0a6aa": {
      "model_module": "@jupyter-widgets/base",
      "model_module_version": "1.2.0",
      "model_name": "LayoutModel",
      "state": {
       "grid_area": "left-sidebar"
      }
     },
     "b8348cff53cf4844a5cee6adb354f4b1": {
      "model_module": "bqplot",
      "model_module_version": "^0.5.27",
      "model_name": "FigureModel",
      "state": {
       "_model_module_version": "^0.5.27",
       "_view_module_version": "^0.5.27",
       "axes": [
        "IPY_MODEL_4e643f2711db48c7914871fbbdd1d1cb",
        "IPY_MODEL_5272cdbf1fc84f888b3744f319d21662"
       ],
       "layout": "IPY_MODEL_338735948d944bcf897781186aa6a4a5",
       "legend_location": "bottom",
       "marks": [
        "IPY_MODEL_45370de4344c421b810ad3f62d8fb824",
        "IPY_MODEL_c88ff53e906a4cda913a88c049dd7a95"
       ],
       "scale_x": "IPY_MODEL_4f9c83160ed74c9bb58631ef322845cb",
       "scale_y": "IPY_MODEL_5d084072c9db4c5cb0f2a06f6b096b94",
       "title": "accuracy"
      }
     },
     "befaf43b1a2e402bb1c249b5ba813d7a": {
      "model_module": "bqplot",
      "model_module_version": "^0.5.27",
      "model_name": "OrdinalScaleModel",
      "state": {
       "_model_module_version": "^0.5.27",
       "_view_module_version": "^0.5.27"
      }
     },
     "bfcde4428a394255beb2f20927712a83": {
      "model_module": "bqplot",
      "model_module_version": "^0.5.27",
      "model_name": "LinearScaleModel",
      "state": {
       "_model_module_version": "^0.5.27",
       "_view_module_version": "^0.5.27",
       "allow_padding": false,
       "max": 1,
       "min": 0,
       "stabilized": false
      }
     },
     "c0750fb7e5bc460fad2684067a4d5bea": {
      "model_module": "bqplot",
      "model_module_version": "^0.5.27",
      "model_name": "LinearScaleModel",
      "state": {
       "_model_module_version": "^0.5.27",
       "_view_module_version": "^0.5.27",
       "allow_padding": false,
       "max": 1,
       "min": 0,
       "stabilized": false
      }
     },
     "c3378accaff942e3b7a2020b499356bf": {
      "model_module": "bqplot",
      "model_module_version": "^0.5.27",
      "model_name": "LinearScaleModel",
      "state": {
       "_model_module_version": "^0.5.27",
       "_view_module_version": "^0.5.27",
       "max": 1,
       "min": 0,
       "stabilized": false
      }
     },
     "c887f1d41f594887aa727277621803a6": {
      "model_module": "@jupyter-widgets/base",
      "model_module_version": "1.2.0",
      "model_name": "LayoutModel",
      "state": {
       "align_items": "center",
       "display": "flex",
       "flex_flow": "column"
      }
     },
     "c88ff53e906a4cda913a88c049dd7a95": {
      "buffers": [
       {
        "data": "AAAAAAEAAAACAAAAAwAAAAQAAAAFAAAABgAAAAcAAAAIAAAACQAAAAoAAAALAAAADAAAAA0AAAAOAAAADwAAABAAAAARAAAAEgAAABMAAAAUAAAAFQAAABYAAAAXAAAAGAAAAA==",
        "encoding": "base64",
        "path": [
         "x",
         "value"
        ]
       },
       {
        "data": "AAAA4Hw/7T8AAACAseTtPwAAAOBtWe4/AAAAoDSl7j8AAACABcjuPwAAAGCR7e4/AAAAQAwC7z8AAABgHRPvPwAAAGC4Hu8/AAAAIHgw7z8AAACgtTrvPwAAAOBcSO8/AAAAoAtJ7z8AAAAAjlDvPwAAAMD3U+8/AAAAYMta7z8AAAAAKVzvPwAAAGDLWu8/AAAAIFpk7z8AAACAhl3vPwAAAIBBYO8/AAAA4Ahl7z8AAAAgFWfvPwAAACCwcu8/AAAAADpt7z8=",
        "encoding": "base64",
        "path": [
         "y",
         "value"
        ]
       }
      ],
      "model_module": "bqplot",
      "model_module_version": "^0.5.27",
      "model_name": "LinesModel",
      "state": {
       "_model_module_version": "^0.5.27",
       "_view_module_version": "^0.5.27",
       "colors": [
        "green"
       ],
       "display_legend": true,
       "fill_colors": [],
       "labels": [
        "val"
       ],
       "scales": {
        "x": "IPY_MODEL_4cf2dd99a14248bf9027a6af84112b68",
        "y": "IPY_MODEL_7afc1b9b043f471f9b527fd153b39838"
       },
       "x": {
        "dtype": "int32",
        "shape": [
         25
        ],
        "type": null,
        "value": {}
       },
       "y": {
        "dtype": "float64",
        "shape": [
         25
        ],
        "type": null,
        "value": {}
       }
      }
     },
     "c9e5b797e2bd4016a42bbd06e6b03da3": {
      "buffers": [
       {
        "data": "AAAAAAEAAAACAAAAAwAAAAQAAAAFAAAABgAAAAcAAAAIAAAACQAAAAoAAAALAAAADAAAAA0AAAAOAAAADwAAABAAAAARAAAAEgAAABMAAAAUAAAAFQAAABYAAAAXAAAAGAAAAA==",
        "encoding": "base64",
        "path": [
         "x",
         "value"
        ]
       },
       {
        "data": "AAAAoKLG7z8AAABAn9fvPwAAAMCP4u8/AAAA4Pjo7z8AAACAsu3vPwAAAIAd7+8/AAAAYEDx7z8AAADgX/TvPwAAAIAL9e8/AAAAQKH27z8AAAAgRvbvPwAAACDX9+8/AAAAgGn37z8AAAAA6vbvPwAAAMBQ9+8/AAAAAHn37z8AAACA5ffvPwAAACBc+O8/AAAAILX37z8AAACAePjvPwAAAECU+O8/AAAAQAT57z8AAABAr/jvPwAAAEDH+O8/AAAAwDb57z8=",
        "encoding": "base64",
        "path": [
         "y",
         "value"
        ]
       }
      ],
      "model_module": "bqplot",
      "model_module_version": "^0.5.27",
      "model_name": "LinesModel",
      "state": {
       "_model_module_version": "^0.5.27",
       "_view_module_version": "^0.5.27",
       "colors": [
        "green"
       ],
       "display_legend": true,
       "fill_colors": [],
       "labels": [
        "val"
       ],
       "scales": {
        "x": "IPY_MODEL_befaf43b1a2e402bb1c249b5ba813d7a",
        "y": "IPY_MODEL_11508ed3d1754f2ea855310d509ccd6c"
       },
       "x": {
        "dtype": "int32",
        "shape": [
         25
        ],
        "type": null,
        "value": {}
       },
       "y": {
        "dtype": "float64",
        "shape": [
         25
        ],
        "type": null,
        "value": {}
       }
      }
     },
     "ce242896c3b54613ab1f5709eea562e7": {
      "model_module": "bqplot",
      "model_module_version": "^0.5.27",
      "model_name": "OrdinalScaleModel",
      "state": {
       "_model_module_version": "^0.5.27",
       "_view_module_version": "^0.5.27"
      }
     },
     "cfdbb9fd672f49d5bee1e86880957360": {
      "model_module": "bqplot",
      "model_module_version": "^0.5.27",
      "model_name": "OrdinalScaleModel",
      "state": {
       "_model_module_version": "^0.5.27",
       "_view_module_version": "^0.5.27"
      }
     },
     "d84cbc7dfd95464db45f404d03fe7b38": {
      "buffers": [
       {
        "data": "AAAAAAoAAAAUAAAAHgAAACgAAAAyAAAAPAAAAEYAAABQAAAAWgAAAA==",
        "encoding": "base64",
        "path": [
         "x",
         "value"
        ]
       },
       {
        "data": "AAAAoDT7qj8AAAAAawOyPwAAAGCHtLI/AAAAoMFEsj8AAACADveyPwAAAGDGe7I/AAAAANhwsj8AAACAVDKyPwAAAKCAArI/AAAAIEQqsj8=",
        "encoding": "base64",
        "path": [
         "y",
         "value"
        ]
       }
      ],
      "model_module": "bqplot",
      "model_module_version": "^0.5.27",
      "model_name": "LinesModel",
      "state": {
       "_model_module_version": "^0.5.27",
       "_view_module_version": "^0.5.27",
       "colors": [
        "red"
       ],
       "display_legend": true,
       "fill_colors": [],
       "labels": [
        "loss"
       ],
       "scales": {
        "x": "IPY_MODEL_44a19a86f1b74142948e57de6569bdc6",
        "y": "IPY_MODEL_00a6428650544544a571ec6bf812f3a8"
       },
       "x": {
        "dtype": "int32",
        "shape": [
         10
        ],
        "type": null,
        "value": {}
       },
       "y": {
        "dtype": "float64",
        "shape": [
         10
        ],
        "type": null,
        "value": {}
       }
      }
     },
     "d88cbf8ba2454d5991a0f7527da37c1d": {
      "model_module": "bqplot",
      "model_module_version": "^0.5.27",
      "model_name": "AxisModel",
      "state": {
       "_model_module_version": "^0.5.27",
       "_view_module_version": "^0.5.27",
       "label": "loss",
       "orientation": "vertical",
       "scale": "IPY_MODEL_35af2068f8284cbca0fd86a9704da401",
       "side": "left",
       "tick_values": null
      }
     },
     "dacfde7c5446429a96141f2468feadd1": {
      "model_module": "@jupyter-widgets/controls",
      "model_module_version": "1.5.0",
      "model_name": "GridBoxModel",
      "state": {
       "children": [
        "IPY_MODEL_b8348cff53cf4844a5cee6adb354f4b1",
        "IPY_MODEL_986916045bcd4a978f7a0759f05dc20c"
       ],
       "layout": "IPY_MODEL_8f7c1cf9ac7b466daf8b9eeaf33fcf5f"
      }
     },
     "db1f96d0f98f4894a1ce314daca08d59": {
      "buffers": [
       {
        "data": "AAAAAAoAAAAUAAAAHgAAACgAAAAyAAAAPAAAAEYAAABQAAAAWgAAAA==",
        "encoding": "base64",
        "path": [
         "x",
         "value"
        ]
       },
       {
        "data": "AAAAAACw7z8AAADgolvvPwAAAKDnSe8/AAAAQOdM7z8AAABAH0PvPwAAAGBkRO8/AAAAAD9F7z8AAADAwkbvPwAAAEAZSO8/AAAAgENI7z8=",
        "encoding": "base64",
        "path": [
         "y",
         "value"
        ]
       }
      ],
      "model_module": "bqplot",
      "model_module_version": "^0.5.27",
      "model_name": "LinesModel",
      "state": {
       "_model_module_version": "^0.5.27",
       "_view_module_version": "^0.5.27",
       "colors": [
        "blue"
       ],
       "display_legend": true,
       "fill_colors": [],
       "labels": [
        "accuracy"
       ],
       "scales": {
        "x": "IPY_MODEL_44a19a86f1b74142948e57de6569bdc6",
        "y": "IPY_MODEL_30c34b892060442caefde731d4c2a846"
       },
       "x": {
        "dtype": "int32",
        "shape": [
         10
        ],
        "type": null,
        "value": {}
       },
       "y": {
        "dtype": "float64",
        "shape": [
         10
        ],
        "type": null,
        "value": {}
       }
      }
     },
     "db6560805c5d4fcbbecb8dbc65d21d13": {
      "model_module": "bqplot",
      "model_module_version": "^0.5.27",
      "model_name": "FigureModel",
      "state": {
       "_model_module_version": "^0.5.27",
       "_view_module_version": "^0.5.27",
       "axes": [
        "IPY_MODEL_fb90260b8d9744b599435dbb3580a778",
        "IPY_MODEL_00e61a20f4b74d93b2da73477e581bbd",
        "IPY_MODEL_2eac17f43d964523adf5ae78e2befd72"
       ],
       "layout": "IPY_MODEL_b709bc63149a4eadbf92cd460dc0a6aa",
       "legend_location": "bottom",
       "marks": [
        "IPY_MODEL_d84cbc7dfd95464db45f404d03fe7b38",
        "IPY_MODEL_db1f96d0f98f4894a1ce314daca08d59"
       ],
       "scale_x": "IPY_MODEL_9bd664b512144541988a27d0f176b652",
       "scale_y": "IPY_MODEL_c0750fb7e5bc460fad2684067a4d5bea",
       "title": "Epoch 25"
      }
     },
     "df5af05f466e426f9ede7f5e03baccea": {
      "model_module": "@jupyter-widgets/controls",
      "model_module_version": "1.5.0",
      "model_name": "HBoxModel",
      "state": {
       "children": [
        "IPY_MODEL_211802520e114ebaac5c9bd74a2f2307"
       ],
       "layout": "IPY_MODEL_a8b5a6fd44744f0c91715f3220eb622d"
      }
     },
     "dfa49de63e8a47f4966cbd78509050c6": {
      "model_module": "bqplot",
      "model_module_version": "^0.5.27",
      "model_name": "LinearScaleModel",
      "state": {
       "_model_module_version": "^0.5.27",
       "_view_module_version": "^0.5.27",
       "allow_padding": false,
       "max": 1,
       "min": 0,
       "stabilized": false
      }
     },
     "e0ec1b81aef5404b9347182362d3b874": {
      "model_module": "bqplot",
      "model_module_version": "^0.5.27",
      "model_name": "AxisModel",
      "state": {
       "_model_module_version": "^0.5.27",
       "_view_module_version": "^0.5.27",
       "label": "epoch",
       "scale": "IPY_MODEL_5eabdbc51ab84ea7a88b0ae98bb71551",
       "side": "bottom",
       "tick_values": null
      }
     },
     "e3add54f64194db8b63b68a85725aefe": {
      "model_module": "@jupyter-widgets/controls",
      "model_module_version": "1.5.0",
      "model_name": "GridBoxModel",
      "state": {
       "children": [
        "IPY_MODEL_0283adc6b43846b2bbb82ab51cb64361",
        "IPY_MODEL_ed74f4ca5408438ebcff9857fefa9538"
       ],
       "layout": "IPY_MODEL_7c6f59167ca3487bb8d15c5279f23065"
      }
     },
     "e3df1156aabf4dddae79845726318a46": {
      "model_module": "@jupyter-widgets/controls",
      "model_module_version": "1.5.0",
      "model_name": "GridBoxModel",
      "state": {
       "children": [
        "IPY_MODEL_ee6a520917f74167b11147c3ed74ca59",
        "IPY_MODEL_80a8cfb2c19c4b92b12b67ca5079725c"
       ],
       "layout": "IPY_MODEL_6d35b37e184b42889c63efd57faed8a8"
      }
     },
     "e9524327e4f44cf2b6217112b41ffb01": {
      "model_module": "bqplot",
      "model_module_version": "^0.5.27",
      "model_name": "LinearScaleModel",
      "state": {
       "_model_module_version": "^0.5.27",
       "_view_module_version": "^0.5.27",
       "allow_padding": false,
       "max": 1,
       "min": 0,
       "stabilized": false
      }
     },
     "ec76643329044473bd340e4d5bc3dad6": {
      "model_module": "bqplot",
      "model_module_version": "^0.5.27",
      "model_name": "AxisModel",
      "state": {
       "_model_module_version": "^0.5.27",
       "_view_module_version": "^0.5.27",
       "label": "accuracy",
       "orientation": "vertical",
       "scale": "IPY_MODEL_a3085b6f58b54fbabcc4b477e0fbd41d",
       "side": "left",
       "tick_values": null
      }
     },
     "ed5b9e5ed1b04c74b61ddaa0d2f454ba": {
      "model_module": "@jupyter-widgets/controls",
      "model_module_version": "1.5.0",
      "model_name": "GridBoxModel",
      "state": {
       "children": [
        "IPY_MODEL_3f3450a3d9e147ba9a5a3749adcfdf83",
        "IPY_MODEL_20c26b4583f44029a149b5b104045cee"
       ],
       "layout": "IPY_MODEL_7b9fbd27c92f4a1a8ee408e5574a01a3"
      }
     },
     "ed74f4ca5408438ebcff9857fefa9538": {
      "model_module": "bqplot",
      "model_module_version": "^0.5.27",
      "model_name": "FigureModel",
      "state": {
       "_model_module_version": "^0.5.27",
       "_view_module_version": "^0.5.27",
       "axes": [
        "IPY_MODEL_e0ec1b81aef5404b9347182362d3b874",
        "IPY_MODEL_5afd0d249a99452e9304207a825170e0"
       ],
       "layout": "IPY_MODEL_1337930426724e778d4cd8d2cbb2eb43",
       "legend_location": "bottom",
       "marks": [
        "IPY_MODEL_1f5a0d77358d4b8f9cafa459700e1a57",
        "IPY_MODEL_0f756ca14e1748c7a7df71929395f929"
       ],
       "scale_x": "IPY_MODEL_3da42a91bddb4c7db1508ff5080965dd",
       "scale_y": "IPY_MODEL_fe0d3b6fceaa433b9151c95810fc1422",
       "title": "Loss"
      }
     },
     "ee6a520917f74167b11147c3ed74ca59": {
      "model_module": "bqplot",
      "model_module_version": "^0.5.27",
      "model_name": "FigureModel",
      "state": {
       "_model_module_version": "^0.5.27",
       "_view_module_version": "^0.5.27",
       "axes": [
        "IPY_MODEL_7c31877bde4c4f72bc63c39a4597133f",
        "IPY_MODEL_0011fcb045ff4b0986b3345cabdca0bb",
        "IPY_MODEL_143b79076f914360bc9ad1dea32748a7"
       ],
       "layout": "IPY_MODEL_9fc39efcdf2d46ed902ac04aab05d7d9",
       "legend_location": "bottom",
       "marks": [
        "IPY_MODEL_4796a047af1b4b07a998acb33324eb32",
        "IPY_MODEL_96ddeebc60f544859c95bfe118e61e50"
       ],
       "scale_x": "IPY_MODEL_378cc769e43f483f8f5d767933456e1e",
       "scale_y": "IPY_MODEL_8cc856fe354c47e68f8ad715c37763a6",
       "title": "Epoch 25"
      }
     },
     "ef51b43aea3644aabd7e948c8dd03230": {
      "model_module": "bqplot",
      "model_module_version": "^0.5.27",
      "model_name": "LinearScaleModel",
      "state": {
       "_model_module_version": "^0.5.27",
       "_view_module_version": "^0.5.27",
       "allow_padding": false,
       "max": 1,
       "min": 0,
       "stabilized": false
      }
     },
     "f5e503562076435fa7c5b7d4ac3f535e": {
      "model_module": "@jupyter-widgets/controls",
      "model_module_version": "1.5.0",
      "model_name": "HBoxModel",
      "state": {
       "children": [
        "IPY_MODEL_ad8367fb40b440628034b58ff4ed50b6"
       ],
       "layout": "IPY_MODEL_c887f1d41f594887aa727277621803a6"
      }
     },
     "f65a15a11fbf41ea85c7e7df10a9975d": {
      "model_module": "@jupyter-widgets/controls",
      "model_module_version": "1.5.0",
      "model_name": "GridBoxModel",
      "state": {
       "children": [
        "IPY_MODEL_db6560805c5d4fcbbecb8dbc65d21d13",
        "IPY_MODEL_b53fe5d477cf4a37b1621a9b014623ad"
       ],
       "layout": "IPY_MODEL_6af5c0b9608e49c68623f3423b79d020"
      }
     },
     "f6c401e17fd14417a6a241698f819d75": {
      "model_module": "bqplot",
      "model_module_version": "^0.5.27",
      "model_name": "OrdinalScaleModel",
      "state": {
       "_model_module_version": "^0.5.27",
       "_view_module_version": "^0.5.27"
      }
     },
     "fb90260b8d9744b599435dbb3580a778": {
      "model_module": "bqplot",
      "model_module_version": "^0.5.27",
      "model_name": "AxisModel",
      "state": {
       "_model_module_version": "^0.5.27",
       "_view_module_version": "^0.5.27",
       "label": "batch",
       "scale": "IPY_MODEL_44a19a86f1b74142948e57de6569bdc6",
       "side": "bottom",
       "tick_values": null
      }
     },
     "fe0d3b6fceaa433b9151c95810fc1422": {
      "model_module": "bqplot",
      "model_module_version": "^0.5.27",
      "model_name": "LinearScaleModel",
      "state": {
       "_model_module_version": "^0.5.27",
       "_view_module_version": "^0.5.27",
       "allow_padding": false,
       "max": 1,
       "min": 0,
       "stabilized": false
      }
     }
    },
    "version_major": 2,
    "version_minor": 0
   }
  }
 },
 "nbformat": 4,
 "nbformat_minor": 2
}
